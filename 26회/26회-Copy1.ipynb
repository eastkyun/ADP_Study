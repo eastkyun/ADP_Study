{
 "cells": [
  {
   "cell_type": "markdown",
   "id": "ea67595b",
   "metadata": {},
   "source": [
    "**1.** 데이터 설명   \n",
    "\n",
    ">InvoiceNo: Invoice number. Nominal, a 6-digit integral number uniquely assigned to each transaction. If this code starts with letter 'c', it indicates a cancellation.  \n",
    ">StockCode: Product (item) code. Nominal, a 5-digit integral number uniquely assigned to each distinct product.  \n",
    ">Description: Product (item) name. Nominal.  \n",
    ">Quantity: The quantities of each product (item) per transaction. Numeric.  \n",
    ">InvoiceDate: Invice Date and time. Numeric, the day and time when each transaction was generated.  \n",
    ">UnitPrice: Unit price. Numeric, Product price per unit in sterling.  \n",
    ">CustomerID: Customer number. Nominal, a 5-digit integral number uniquely assigned to each customer.  \n",
    ">Country: Country name. Nominal, the name of the country where each customer resides.  \n",
    "\n"
   ]
  },
  {
   "cell_type": "code",
   "execution_count": 1,
   "id": "ebd2c317",
   "metadata": {},
   "outputs": [
    {
     "data": {
      "text/html": [
       "<div>\n",
       "<style scoped>\n",
       "    .dataframe tbody tr th:only-of-type {\n",
       "        vertical-align: middle;\n",
       "    }\n",
       "\n",
       "    .dataframe tbody tr th {\n",
       "        vertical-align: top;\n",
       "    }\n",
       "\n",
       "    .dataframe thead th {\n",
       "        text-align: right;\n",
       "    }\n",
       "</style>\n",
       "<table border=\"1\" class=\"dataframe\">\n",
       "  <thead>\n",
       "    <tr style=\"text-align: right;\">\n",
       "      <th></th>\n",
       "      <th>InvoiceNo</th>\n",
       "      <th>StockCode</th>\n",
       "      <th>Description</th>\n",
       "      <th>Quantity</th>\n",
       "      <th>InvoiceDate</th>\n",
       "      <th>UnitPrice</th>\n",
       "      <th>CustomerID</th>\n",
       "      <th>Country</th>\n",
       "    </tr>\n",
       "  </thead>\n",
       "  <tbody>\n",
       "    <tr>\n",
       "      <th>0</th>\n",
       "      <td>563808</td>\n",
       "      <td>22432</td>\n",
       "      <td>WATERING CAN PINK BUNNY</td>\n",
       "      <td>6.0</td>\n",
       "      <td>8/19/2011 11:46</td>\n",
       "      <td>1.95</td>\n",
       "      <td>12626.0</td>\n",
       "      <td>Germany</td>\n",
       "    </tr>\n",
       "    <tr>\n",
       "      <th>1</th>\n",
       "      <td>561645</td>\n",
       "      <td>23166</td>\n",
       "      <td>MEDIUM CERAMIC TOP STORAGE JAR</td>\n",
       "      <td>12.0</td>\n",
       "      <td>7/28/2011 15:16</td>\n",
       "      <td>1.25</td>\n",
       "      <td>14911.0</td>\n",
       "      <td>EIRE</td>\n",
       "    </tr>\n",
       "    <tr>\n",
       "      <th>2</th>\n",
       "      <td>568651</td>\n",
       "      <td>20985</td>\n",
       "      <td>HEART CALCULATOR</td>\n",
       "      <td>12.0</td>\n",
       "      <td>9/28/2011 12:04</td>\n",
       "      <td>1.25</td>\n",
       "      <td>12362.0</td>\n",
       "      <td>Belgium</td>\n",
       "    </tr>\n",
       "    <tr>\n",
       "      <th>3</th>\n",
       "      <td>541711</td>\n",
       "      <td>22772</td>\n",
       "      <td>PINK DRAWER KNOB ACRYLIC EDWARDIAN</td>\n",
       "      <td>24.0</td>\n",
       "      <td>1/21/2011 11:18</td>\n",
       "      <td>1.25</td>\n",
       "      <td>14646.0</td>\n",
       "      <td>Netherlands</td>\n",
       "    </tr>\n",
       "    <tr>\n",
       "      <th>4</th>\n",
       "      <td>554134</td>\n",
       "      <td>21154</td>\n",
       "      <td>RED RETROSPOT OVEN GLOVE</td>\n",
       "      <td>10.0</td>\n",
       "      <td>5/23/2011 9:48</td>\n",
       "      <td>1.25</td>\n",
       "      <td>12583.0</td>\n",
       "      <td>France</td>\n",
       "    </tr>\n",
       "  </tbody>\n",
       "</table>\n",
       "</div>"
      ],
      "text/plain": [
       "  InvoiceNo StockCode                         Description  Quantity  \\\n",
       "0    563808     22432             WATERING CAN PINK BUNNY       6.0   \n",
       "1    561645     23166      MEDIUM CERAMIC TOP STORAGE JAR      12.0   \n",
       "2    568651     20985                    HEART CALCULATOR      12.0   \n",
       "3    541711     22772  PINK DRAWER KNOB ACRYLIC EDWARDIAN      24.0   \n",
       "4    554134     21154           RED RETROSPOT OVEN GLOVE       10.0   \n",
       "\n",
       "       InvoiceDate  UnitPrice  CustomerID      Country  \n",
       "0  8/19/2011 11:46       1.95     12626.0      Germany  \n",
       "1  7/28/2011 15:16       1.25     14911.0         EIRE  \n",
       "2  9/28/2011 12:04       1.25     12362.0      Belgium  \n",
       "3  1/21/2011 11:18       1.25     14646.0  Netherlands  \n",
       "4   5/23/2011 9:48       1.25     12583.0       France  "
      ]
     },
     "execution_count": 1,
     "metadata": {},
     "output_type": "execute_result"
    }
   ],
   "source": [
    "import pandas as pd\n",
    "df = pd.read_csv('./problem1.csv')\n",
    "df.head()"
   ]
  },
  {
   "cell_type": "markdown",
   "id": "a78484cd",
   "metadata": {},
   "source": [
    "**1-1** 결측치를 확인하고, 결측치 제거할 것"
   ]
  },
  {
   "cell_type": "code",
   "execution_count": 2,
   "id": "ca016d61",
   "metadata": {},
   "outputs": [
    {
     "name": "stdout",
     "output_type": "stream",
     "text": [
      "<class 'pandas.core.frame.DataFrame'>\n",
      "RangeIndex: 35801 entries, 0 to 35800\n",
      "Data columns (total 8 columns):\n",
      " #   Column       Non-Null Count  Dtype  \n",
      "---  ------       --------------  -----  \n",
      " 0   InvoiceNo    35801 non-null  object \n",
      " 1   StockCode    35801 non-null  object \n",
      " 2   Description  35801 non-null  object \n",
      " 3   Quantity     35776 non-null  float64\n",
      " 4   InvoiceDate  35801 non-null  object \n",
      " 5   UnitPrice    35704 non-null  float64\n",
      " 6   CustomerID   35801 non-null  float64\n",
      " 7   Country      35801 non-null  object \n",
      "dtypes: float64(3), object(5)\n",
      "memory usage: 2.2+ MB\n"
     ]
    }
   ],
   "source": [
    "df.info()"
   ]
  },
  {
   "cell_type": "code",
   "execution_count": 3,
   "id": "d9d1586d",
   "metadata": {},
   "outputs": [],
   "source": [
    "df.dropna(inplace=True)"
   ]
  },
  {
   "cell_type": "markdown",
   "id": "08ddefac",
   "metadata": {},
   "source": [
    "* `Quantity`, `UnitPrice` 결측치 존재\n",
    "* 결측치 처리 방법 : 결측치 제거, 결측치 대체 등 존재\n",
    "```python\n",
    "df = df.dropna()  # 결측치가 있는 모든 행을 삭제합니다.\n",
    "df = df.dropna(axis=1)  # 결측치가 있는 모든 열을 삭제합니다.\n",
    "```\n",
    "```python\n",
    "df = df.fillna(0)  # 결측치를 0으로 대체합니다.\n",
    "df = df.fillna(method='ffill')  # 결측치를 앞의 값으로 대체합니다.\n",
    "df = df.fillna(method='bfill')  # 결측치를 뒤의 값으로 대체합니다.\n",
    "```"
   ]
  },
  {
   "cell_type": "markdown",
   "id": "3017eda3",
   "metadata": {},
   "source": [
    "**1-2** 이상치 제거하는 방법을 설명하고, 이상치 제거하고 난 결과를 통계적으로 나타낼 것"
   ]
  },
  {
   "cell_type": "markdown",
   "id": "3dc94149",
   "metadata": {},
   "source": [
    "이상치(outlier)란 대다수의 데이터와는 다른 극단적인 값을 가지는 데이터를 말합니다. 이상치는 데이터 분석의 정확성을 해치하므로, 이상치를 제거하는 것은 데이터 분석에서 중요한 단계 중 하나입니다.  \n",
    "\n",
    "Python에서는 numpy, scipy, pandas 등 다양한 패키지를 활용하여 이상치를 제거할 수 있습니다. 이상치를 제거하는 방법에는 여러 가지가 있지만, 가장 간단한 방법은 이상치를 1사분위수와 3사분위수 사이에 위치한 값들로 대체하는 것입니다. 이를 Tukey 방법이라고도 합니다.  \n",
    "\n",
    "1. 이상치 확인하기  \n",
    "이상치를 확인하기 위해 데이터의 분포를 시각화하여 살펴볼 수 있습니다. 가장 간단한 방법은 박스 플롯(box plot)을 그려보는 것입니다. 박스 플롯은 데이터의 중앙값, 사분위수, 이상치를 한눈에 볼 수 있게 해주는 시각화 도구입니다.  \n",
    "\n",
    "```python \n",
    "import matplotlib.pyplot as plt\n",
    "import seaborn as sns\n",
    "sns.set_style('whitegrid')\n",
    "\n",
    "df = pd.read_csv('data.csv')\n",
    "sns.boxplot(x=df['column_name'])\n",
    "plt.show()\n",
    "```\n",
    "\n",
    "2. 이상치 제거하기  \n",
    "이상치를 제거하기 위해서는 이상치의 경계를 정해야 합니다. 가장 일반적인 방법은 Tukey 방법으로, 이상치의 경계는 1사분위수 - 1.5 * IQR와 3사분위수 + 1.5 * IQR입니다. IQR은 사분위 범위(IQR, Interquartile Range)로, 3사분위수와 1사분위수의 차이를 나타냅니다.  \n",
    "\n",
    "```python\n",
    "Q1 = df['column_name'].quantile(0.25)\n",
    "Q3 = df['column_name'].quantile(0.75)\n",
    "IQR = Q3 - Q1\n",
    "lower_bound = Q1 - 1.5 * IQR\n",
    "upper_bound = Q3 + 1.5 * IQR\n",
    "# 이상치를 경계값으로 대체합니다.\n",
    "df['column_name'] = np.where(df['column_name'] < lower_bound, lower_bound, df['column_name'])\n",
    "df['column_name'] = np.where(df['column_name'] > upper_bound, upper_bound, df['column_name'])\n",
    "```\n",
    "\n",
    "3. 이상치 제거 후 통계적으로 나타내기  \n"
   ]
  },
  {
   "cell_type": "code",
   "execution_count": 4,
   "id": "bba13b9b",
   "metadata": {},
   "outputs": [
    {
     "data": {
      "text/plain": [
       "Index(['InvoiceNo', 'StockCode', 'Description', 'Quantity', 'InvoiceDate',\n",
       "       'UnitPrice', 'CustomerID', 'Country'],\n",
       "      dtype='object')"
      ]
     },
     "execution_count": 4,
     "metadata": {},
     "output_type": "execute_result"
    }
   ],
   "source": [
    "df.columns"
   ]
  },
  {
   "cell_type": "code",
   "execution_count": 5,
   "id": "14000797",
   "metadata": {},
   "outputs": [],
   "source": [
    "df = df[~df['InvoiceNo'].map(lambda x: x[0]=='C')]"
   ]
  },
  {
   "cell_type": "code",
   "execution_count": 6,
   "id": "ecc3794d",
   "metadata": {},
   "outputs": [
    {
     "name": "stderr",
     "output_type": "stream",
     "text": [
      "d:\\Users\\kang\\anaconda3\\lib\\site-packages\\seaborn\\_decorators.py:36: FutureWarning: Pass the following variable as a keyword arg: x. From version 0.12, the only valid positional argument will be `data`, and passing other arguments without an explicit keyword will result in an error or misinterpretation.\n",
      "  warnings.warn(\n"
     ]
    },
    {
     "data": {
      "image/png": "[encoded data removed]",
      "text/plain": [
       "<Figure size 640x480 with 1 Axes>"
      ]
     },
     "metadata": {},
     "output_type": "display_data"
    }
   ],
   "source": [
    "import matplotlib.pyplot as plt\n",
    "import seaborn as sns\n",
    "sns.boxplot(df['Quantity'])\n",
    "plt.show()"
   ]
  },
  {
   "cell_type": "code",
   "execution_count": 7,
   "id": "a2ec6940",
   "metadata": {},
   "outputs": [
    {
     "name": "stderr",
     "output_type": "stream",
     "text": [
      "d:\\Users\\kang\\anaconda3\\lib\\site-packages\\seaborn\\_decorators.py:36: FutureWarning: Pass the following variable as a keyword arg: x. From version 0.12, the only valid positional argument will be `data`, and passing other arguments without an explicit keyword will result in an error or misinterpretation.\n",
      "  warnings.warn(\n"
     ]
    },
    {
     "data": {
      "image/png": "[encoded data removed]",
      "text/plain": [
       "<Figure size 640x480 with 1 Axes>"
      ]
     },
     "metadata": {},
     "output_type": "display_data"
    }
   ],
   "source": [
    "sns.boxplot(df['UnitPrice'])\n",
    "plt.show()"
   ]
  },
  {
   "cell_type": "code",
   "execution_count": 8,
   "id": "00f0120b",
   "metadata": {},
   "outputs": [],
   "source": [
    "import numpy as np\n",
    "\n",
    "Q1 = df['Quantity'].quantile(0.25)\n",
    "Q3 = df['Quantity'].quantile(0.75)\n",
    "IQR = Q3 - Q1\n",
    "lower_bound = Q1 - 1.5 * IQR\n",
    "upper_bound = Q3 + 1.5 * IQR\n",
    "\n",
    "df['Quantity'] = np.where(df['Quantity'] < 0, 0, df['Quantity'])\n",
    "df['Quantity'] = np.where(df['Quantity'] > upper_bound, upper_bound, df['Quantity'])"
   ]
  },
  {
   "cell_type": "code",
   "execution_count": 9,
   "id": "6acb2656",
   "metadata": {},
   "outputs": [],
   "source": [
    "Q1 = df['UnitPrice'].quantile(0.25)\n",
    "Q3 = df['UnitPrice'].quantile(0.75)\n",
    "IQR = Q3 - Q1\n",
    "lower_bound = Q1 - 1.5 * IQR\n",
    "upper_bound = Q3 + 1.5 * IQR\n",
    "df['UnitPrice'] = np.where(df['UnitPrice'] < lower_bound, lower_bound, df['UnitPrice'])\n",
    "df['UnitPrice'] = np.where(df['UnitPrice'] > upper_bound, upper_bound, df['UnitPrice'])"
   ]
  },
  {
   "cell_type": "code",
   "execution_count": 10,
   "id": "e9b2df95",
   "metadata": {
    "scrolled": false
   },
   "outputs": [
    {
     "name": "stderr",
     "output_type": "stream",
     "text": [
      "d:\\Users\\kang\\anaconda3\\lib\\site-packages\\seaborn\\_decorators.py:36: FutureWarning: Pass the following variable as a keyword arg: x. From version 0.12, the only valid positional argument will be `data`, and passing other arguments without an explicit keyword will result in an error or misinterpretation.\n",
      "  warnings.warn(\n"
     ]
    },
    {
     "data": {
      "image/png": "[encoded data removed]",
      "text/plain": [
       "<Figure size 640x480 with 1 Axes>"
      ]
     },
     "metadata": {},
     "output_type": "display_data"
    }
   ],
   "source": [
    "import matplotlib.pyplot as plt\n",
    "import seaborn as sns\n",
    "sns.boxplot(df['Quantity'])\n",
    "plt.show()"
   ]
  },
  {
   "cell_type": "code",
   "execution_count": 11,
   "id": "338c999b",
   "metadata": {},
   "outputs": [
    {
     "name": "stderr",
     "output_type": "stream",
     "text": [
      "d:\\Users\\kang\\anaconda3\\lib\\site-packages\\seaborn\\_decorators.py:36: FutureWarning: Pass the following variable as a keyword arg: x. From version 0.12, the only valid positional argument will be `data`, and passing other arguments without an explicit keyword will result in an error or misinterpretation.\n",
      "  warnings.warn(\n"
     ]
    },
    {
     "data": {
      "image/png": "[encoded data removed]",
      "text/plain": [
       "<Figure size 640x480 with 1 Axes>"
      ]
     },
     "metadata": {},
     "output_type": "display_data"
    }
   ],
   "source": [
    "sns.boxplot(df['UnitPrice'])\n",
    "plt.show()"
   ]
  },
  {
   "cell_type": "code",
   "execution_count": 12,
   "id": "a0839611",
   "metadata": {},
   "outputs": [],
   "source": [
    "df['Total_Price'] = df['Quantity'] * df['UnitPrice']"
   ]
  },
  {
   "cell_type": "markdown",
   "id": "4d1a7b09",
   "metadata": {},
   "source": [
    "**1-3** 전처리한 데이터로 Kmeans, DBSCAN 등 방법으로 군집을 생성할 것"
   ]
  },
  {
   "cell_type": "markdown",
   "id": "d351f44f",
   "metadata": {},
   "source": [
    "K-means와 DBSCAN은 비지도 학습(Unsupervised Learning) 알고리즘 중에서 가장 일반적으로 사용되는 군집(Clustering) 알고리즘입니다. 둘 다 데이터를 군집화하여 비슷한 특성을 갖는 데이터들끼리 묶어주는 역할을 합니다.\n",
    "\n",
    "K-means 알고리즘은 데이터를 K개의 군집으로 묶어주는 알고리즘입니다. 먼저, 초기 중심점(Centroids)을 설정하고, 각 데이터와 가장 가까운 중심점을 기준으로 군집을 형성합니다. 그리고, 군집의 중심점을 다시 계산하고, 중심점이 바뀔 때까지 이 과정을 반복합니다. K-means 알고리즘은 비교적 간단하고 빠르게 수행할 수 있지만, 초기 중심점의 설정에 따라 결과가 달라질 수 있으며, 군집의 개수 K를 직접 지정해주어야 한다는 단점이 있습니다.\n",
    "\n",
    "반면, DBSCAN 알고리즘은 데이터가 밀집되어 있는 지역을 군집으로 묶어줍니다. 이 알고리즘은 epsilon(ε)과 minPts라는 두 개의 하이퍼파라미터를 사용합니다. epsilon은 데이터 포인트 간의 거리를 기준으로 밀집 지역을 정의하고, minPts는 한 군집에 속해야 할 최소 데이터 포인트의 수를 정의합니다. DBSCAN 알고리즘은 밀집 지역과 이웃하지 않는 데이터를 잡음(Noise)으로 처리하며, 군집의 개수를 지정해주지 않아도 자동으로 찾아줍니다.\n",
    "\n",
    "이 두 알고리즘은 각각 장단점이 있으며, 사용할 데이터에 따라 적합한 알고리즘을 선택해야 합니다."
   ]
  },
  {
   "cell_type": "code",
   "execution_count": 13,
   "id": "900989a9",
   "metadata": {},
   "outputs": [],
   "source": [
    "from sklearn.preprocessing import LabelEncoder  \n",
    "le = LabelEncoder()  \n",
    "# df['InvoiceNo'] = le.fit_transform(df['InvoiceNo'])  \n",
    "# df['StockCode'] = le.fit_transform(df['StockCode'])  \n",
    "df['Description_PP'] = le.fit_transform(df['Description'])  \n",
    "# df['InvoiceDate'] = le.fit_transform(df['InvoiceDate'])  \n",
    "# df['CustomerID'] = le.fit_transform(df['CustomerID'])  \n",
    "# df['Country'] = le.fit_transform(df['Country'])"
   ]
  },
  {
   "cell_type": "code",
   "execution_count": 14,
   "id": "5388aca7",
   "metadata": {},
   "outputs": [
    {
     "name": "stdout",
     "output_type": "stream",
     "text": [
      "<class 'pandas.core.frame.DataFrame'>\n",
      "Int64Index: 34688 entries, 0 to 35800\n",
      "Data columns (total 10 columns):\n",
      " #   Column          Non-Null Count  Dtype  \n",
      "---  ------          --------------  -----  \n",
      " 0   InvoiceNo       34688 non-null  object \n",
      " 1   StockCode       34688 non-null  object \n",
      " 2   Description     34688 non-null  object \n",
      " 3   Quantity        34688 non-null  float64\n",
      " 4   InvoiceDate     34688 non-null  object \n",
      " 5   UnitPrice       34688 non-null  float64\n",
      " 6   CustomerID      34688 non-null  float64\n",
      " 7   Country         34688 non-null  object \n",
      " 8   Total_Price     34688 non-null  float64\n",
      " 9   Description_PP  34688 non-null  int32  \n",
      "dtypes: float64(4), int32(1), object(5)\n",
      "memory usage: 2.8+ MB\n"
     ]
    }
   ],
   "source": [
    "df.info()"
   ]
  },
  {
   "cell_type": "code",
   "execution_count": 15,
   "id": "2f401b75",
   "metadata": {},
   "outputs": [
    {
     "data": {
      "text/html": [
       "<div>\n",
       "<style scoped>\n",
       "    .dataframe tbody tr th:only-of-type {\n",
       "        vertical-align: middle;\n",
       "    }\n",
       "\n",
       "    .dataframe tbody tr th {\n",
       "        vertical-align: top;\n",
       "    }\n",
       "\n",
       "    .dataframe thead th {\n",
       "        text-align: right;\n",
       "    }\n",
       "</style>\n",
       "<table border=\"1\" class=\"dataframe\">\n",
       "  <thead>\n",
       "    <tr style=\"text-align: right;\">\n",
       "      <th></th>\n",
       "      <th>CustomerID</th>\n",
       "      <th>CountByCustomerID</th>\n",
       "      <th>Total_Price</th>\n",
       "    </tr>\n",
       "  </thead>\n",
       "  <tbody>\n",
       "    <tr>\n",
       "      <th>0</th>\n",
       "      <td>14911.0</td>\n",
       "      <td>5651</td>\n",
       "      <td>114959.56</td>\n",
       "    </tr>\n",
       "    <tr>\n",
       "      <th>1</th>\n",
       "      <td>14646.0</td>\n",
       "      <td>2077</td>\n",
       "      <td>96888.17</td>\n",
       "    </tr>\n",
       "    <tr>\n",
       "      <th>2</th>\n",
       "      <td>14156.0</td>\n",
       "      <td>1397</td>\n",
       "      <td>51882.63</td>\n",
       "    </tr>\n",
       "    <tr>\n",
       "      <th>3</th>\n",
       "      <td>12681.0</td>\n",
       "      <td>637</td>\n",
       "      <td>12179.12</td>\n",
       "    </tr>\n",
       "    <tr>\n",
       "      <th>4</th>\n",
       "      <td>12682.0</td>\n",
       "      <td>524</td>\n",
       "      <td>10411.05</td>\n",
       "    </tr>\n",
       "    <tr>\n",
       "      <th>...</th>\n",
       "      <td>...</td>\n",
       "      <td>...</td>\n",
       "      <td>...</td>\n",
       "    </tr>\n",
       "    <tr>\n",
       "      <th>282</th>\n",
       "      <td>12789.0</td>\n",
       "      <td>4</td>\n",
       "      <td>30.00</td>\n",
       "    </tr>\n",
       "    <tr>\n",
       "      <th>283</th>\n",
       "      <td>12734.0</td>\n",
       "      <td>4</td>\n",
       "      <td>110.40</td>\n",
       "    </tr>\n",
       "    <tr>\n",
       "      <th>284</th>\n",
       "      <td>12665.0</td>\n",
       "      <td>3</td>\n",
       "      <td>52.50</td>\n",
       "    </tr>\n",
       "    <tr>\n",
       "      <th>285</th>\n",
       "      <td>12603.0</td>\n",
       "      <td>3</td>\n",
       "      <td>285.00</td>\n",
       "    </tr>\n",
       "    <tr>\n",
       "      <th>286</th>\n",
       "      <td>12791.0</td>\n",
       "      <td>2</td>\n",
       "      <td>64.85</td>\n",
       "    </tr>\n",
       "  </tbody>\n",
       "</table>\n",
       "<p>287 rows × 3 columns</p>\n",
       "</div>"
      ],
      "text/plain": [
       "     CustomerID  CountByCustomerID  Total_Price\n",
       "0       14911.0               5651    114959.56\n",
       "1       14646.0               2077     96888.17\n",
       "2       14156.0               1397     51882.63\n",
       "3       12681.0                637     12179.12\n",
       "4       12682.0                524     10411.05\n",
       "..          ...                ...          ...\n",
       "282     12789.0                  4        30.00\n",
       "283     12734.0                  4       110.40\n",
       "284     12665.0                  3        52.50\n",
       "285     12603.0                  3       285.00\n",
       "286     12791.0                  2        64.85\n",
       "\n",
       "[287 rows x 3 columns]"
      ]
     },
     "execution_count": 15,
     "metadata": {},
     "output_type": "execute_result"
    }
   ],
   "source": [
    "target = pd.DataFrame()\n",
    "target['CustomerID'] = df['CustomerID'].value_counts().index\n",
    "target['CountByCustomerID'] = df['CustomerID'].value_counts().values\n",
    "target = pd.merge(target, df.groupby(by='CustomerID').sum().reset_index().loc[:,['CustomerID', 'Total_Price']], on='CustomerID')\n",
    "target "
   ]
  },
  {
   "cell_type": "code",
   "execution_count": 16,
   "id": "c698da0a",
   "metadata": {},
   "outputs": [
    {
     "name": "stderr",
     "output_type": "stream",
     "text": [
      "d:\\Users\\kang\\anaconda3\\lib\\site-packages\\seaborn\\_decorators.py:36: FutureWarning: Pass the following variable as a keyword arg: x. From version 0.12, the only valid positional argument will be `data`, and passing other arguments without an explicit keyword will result in an error or misinterpretation.\n",
      "  warnings.warn(\n"
     ]
    },
    {
     "data": {
      "image/png": "[encoded data removed]",
      "text/plain": [
       "<Figure size 640x480 with 1 Axes>"
      ]
     },
     "metadata": {},
     "output_type": "display_data"
    }
   ],
   "source": [
    "import matplotlib.pyplot as plt\n",
    "import seaborn as sns\n",
    "sns.boxplot(target['CountByCustomerID'])\n",
    "plt.show()"
   ]
  },
  {
   "cell_type": "code",
   "execution_count": 17,
   "id": "51cd8cb6",
   "metadata": {},
   "outputs": [
    {
     "name": "stderr",
     "output_type": "stream",
     "text": [
      "d:\\Users\\kang\\anaconda3\\lib\\site-packages\\seaborn\\_decorators.py:36: FutureWarning: Pass the following variable as a keyword arg: x. From version 0.12, the only valid positional argument will be `data`, and passing other arguments without an explicit keyword will result in an error or misinterpretation.\n",
      "  warnings.warn(\n"
     ]
    },
    {
     "data": {
      "image/png": "[encoded data removed]",
      "text/plain": [
       "<Figure size 640x480 with 1 Axes>"
      ]
     },
     "metadata": {},
     "output_type": "display_data"
    }
   ],
   "source": [
    "import matplotlib.pyplot as plt\n",
    "import seaborn as sns\n",
    "sns.boxplot(target['Total_Price'])\n",
    "plt.show()"
   ]
  },
  {
   "cell_type": "code",
   "execution_count": 18,
   "id": "274911be",
   "metadata": {},
   "outputs": [],
   "source": [
    "Q1 = target['CountByCustomerID'].quantile(0.25)\n",
    "Q3 = target['CountByCustomerID'].quantile(0.75)\n",
    "IQR = Q3 - Q1\n",
    "lower_bound = Q1 - 1.5 * IQR\n",
    "upper_bound = Q3 + 1.5 * IQR\n",
    "target['CountByCustomerID'] = np.where(target['CountByCustomerID'] < lower_bound, lower_bound, target['CountByCustomerID'])\n",
    "target['CountByCustomerID'] = np.where(target['CountByCustomerID'] > upper_bound, upper_bound, target['CountByCustomerID'])"
   ]
  },
  {
   "cell_type": "code",
   "execution_count": 19,
   "id": "564e627e",
   "metadata": {},
   "outputs": [],
   "source": [
    "Q1 = target['Total_Price'].quantile(0.25)\n",
    "Q3 = target['Total_Price'].quantile(0.75)\n",
    "IQR = Q3 - Q1\n",
    "lower_bound = Q1 - 1.5 * IQR\n",
    "upper_bound = Q3 + 1.5 * IQR\n",
    "target['Total_Price'] = np.where(target['Total_Price'] < lower_bound, lower_bound, target['Total_Price'])\n",
    "target['Total_Price'] = np.where(target['Total_Price'] > upper_bound, upper_bound, target['Total_Price'])"
   ]
  },
  {
   "cell_type": "code",
   "execution_count": 20,
   "id": "706c4648",
   "metadata": {},
   "outputs": [
    {
     "name": "stdout",
     "output_type": "stream",
     "text": [
      "827.4040621781678\n",
      "839.5858638376619\n",
      "758.6385668977113\n",
      "806.1523037688843\n",
      "805.0907635927877\n",
      "861.2646397741249\n",
      "991.6290930645528\n",
      "1095.680422843926\n"
     ]
    }
   ],
   "source": [
    "from sklearn.cluster import KMeans\n",
    "from sklearn.metrics import calinski_harabasz_score\n",
    "\n",
    "# 클러스터별 콜린스키 하라바츠 결과 비교\n",
    "for k in range(2, 10):\n",
    "    kmeans_model = KMeans(n_clusters=k, random_state=1).fit(target)\n",
    "    labels = kmeans_model.labels_\n",
    "    print(calinski_harabasz_score(target, labels))"
   ]
  },
  {
   "cell_type": "code",
   "execution_count": 21,
   "id": "86823f21",
   "metadata": {},
   "outputs": [],
   "source": [
    "import matplotlib.pyplot as plt\n",
    "def elbow(X):\n",
    "    sse=[]\n",
    "    for i in range(1, 11):\n",
    "        km=KMeans(n_clusters=i, random_state=1)\n",
    "        km.fit(X)\n",
    "        sse.append(km.inertia_)\n",
    "    \n",
    "    plt.plot(range(1,11), sse, marker='o')\n",
    "    plt.xlabel('The Number of Clusters')\n",
    "    plt.ylabel('SSE')\n",
    "    plt.show()\n",
    "    print(sse)"
   ]
  },
  {
   "cell_type": "code",
   "execution_count": 22,
   "id": "677a1bb4",
   "metadata": {},
   "outputs": [
    {
     "name": "stderr",
     "output_type": "stream",
     "text": [
      "d:\\Users\\kang\\anaconda3\\lib\\site-packages\\sklearn\\cluster\\_kmeans.py:1036: UserWarning: KMeans is known to have a memory leak on Windows with MKL, when there are less chunks than available threads. You can avoid it by setting the environment variable OMP_NUM_THREADS=2.\n",
      "  warnings.warn(\n"
     ]
    },
    {
     "data": {
      "image/png": "[encoded data removed]",
      "text/plain": [
       "<Figure size 640x480 with 1 Axes>"
      ]
     },
     "metadata": {},
     "output_type": "display_data"
    },
    {
     "name": "stdout",
     "output_type": "stream",
     "text": [
      "[814085384.2819817, 208570197.11530352, 117768734.07292637, 90032728.97555637, 65468395.33203403, 53119806.377348304, 41843089.88685579, 31456665.468973033, 25025394.33840473, 19215987.215572942]\n"
     ]
    }
   ],
   "source": [
    "elbow(target)"
   ]
  },
  {
   "cell_type": "code",
   "execution_count": 24,
   "id": "1c70d4b9",
   "metadata": {},
   "outputs": [
    {
     "data": {
      "text/plain": [
       "KMeans(n_clusters=3)"
      ]
     },
     "execution_count": 24,
     "metadata": {},
     "output_type": "execute_result"
    }
   ],
   "source": [
    "from sklearn.cluster import KMeans\n",
    "import numpy as np\n",
    "\n",
    "\n",
    "# K-means 알고리즘으로 군집 생성\n",
    "kmeans = KMeans(n_clusters=3)\n",
    "kmeans.fit(target)\n",
    "\n",
    "# 군집 결과 출력\n",
    "# print(kmeans.labels_)\n"
   ]
  },
  {
   "cell_type": "code",
   "execution_count": 25,
   "id": "4026fec1",
   "metadata": {},
   "outputs": [],
   "source": [
    "target['class'] = kmeans.labels_"
   ]
  },
  {
   "cell_type": "code",
   "execution_count": 26,
   "id": "ba7379b7",
   "metadata": {},
   "outputs": [
    {
     "data": {
      "text/plain": [
       "Index(['CustomerID', 'CountByCustomerID', 'Total_Price', 'class'], dtype='object')"
      ]
     },
     "execution_count": 26,
     "metadata": {},
     "output_type": "execute_result"
    }
   ],
   "source": [
    "target.columns"
   ]
  },
  {
   "cell_type": "code",
   "execution_count": 27,
   "id": "ed4f86fe",
   "metadata": {},
   "outputs": [
    {
     "data": {
      "image/png": "[encoded data removed]",
      "text/plain": [
       "<Figure size 808.875x750 with 12 Axes>"
      ]
     },
     "metadata": {},
     "output_type": "display_data"
    }
   ],
   "source": [
    "import seaborn as sns\n",
    "import matplotlib.pyplot as plt\n",
    "\n",
    "sns.pairplot(target,\n",
    "             diag_kind='kde',\n",
    "             hue=\"class\",\n",
    "#            corner = True,  #직각삼각형 모양으로 산점도 행렬 만드려면 주석해제\n",
    "             palette='bright')\n",
    "plt.show()"
   ]
  },
  {
   "cell_type": "markdown",
   "id": "89c20e07",
   "metadata": {},
   "source": [
    "**2-1** 위에서 생성한 군집들의 특성을 분석할 것"
   ]
  },
  {
   "cell_type": "markdown",
   "id": "e4179ab4",
   "metadata": {},
   "source": [
    "0 : \n",
    "1 : \n",
    "2 : "
   ]
  },
  {
   "cell_type": "markdown",
   "id": "8a47cfd1",
   "metadata": {},
   "source": [
    "**2-2** 각 군집 별 대표 추천 상품을 도출할 것"
   ]
  },
  {
   "cell_type": "code",
   "execution_count": 28,
   "id": "9432fddb",
   "metadata": {},
   "outputs": [
    {
     "data": {
      "text/plain": [
       "0    180\n",
       "2     61\n",
       "1     46\n",
       "Name: class, dtype: int64"
      ]
     },
     "execution_count": 28,
     "metadata": {},
     "output_type": "execute_result"
    }
   ],
   "source": [
    "target['class'].value_counts()"
   ]
  },
  {
   "cell_type": "markdown",
   "id": "d59c9e2d",
   "metadata": {},
   "source": [
    "**2-3** CustomerID가 12413인 고객을 대상으로 상품을 추천할 것"
   ]
  },
  {
   "cell_type": "code",
   "execution_count": 29,
   "id": "d04412b2",
   "metadata": {},
   "outputs": [
    {
     "data": {
      "text/html": [
       "<div>\n",
       "<style scoped>\n",
       "    .dataframe tbody tr th:only-of-type {\n",
       "        vertical-align: middle;\n",
       "    }\n",
       "\n",
       "    .dataframe tbody tr th {\n",
       "        vertical-align: top;\n",
       "    }\n",
       "\n",
       "    .dataframe thead th {\n",
       "        text-align: right;\n",
       "    }\n",
       "</style>\n",
       "<table border=\"1\" class=\"dataframe\">\n",
       "  <thead>\n",
       "    <tr style=\"text-align: right;\">\n",
       "      <th></th>\n",
       "      <th>CustomerID</th>\n",
       "      <th>CountByCustomerID</th>\n",
       "      <th>Total_Price</th>\n",
       "      <th>class</th>\n",
       "    </tr>\n",
       "  </thead>\n",
       "  <tbody>\n",
       "    <tr>\n",
       "      <th>163</th>\n",
       "      <td>12413.0</td>\n",
       "      <td>38.0</td>\n",
       "      <td>680.2</td>\n",
       "      <td>0</td>\n",
       "    </tr>\n",
       "  </tbody>\n",
       "</table>\n",
       "</div>"
      ],
      "text/plain": [
       "     CustomerID  CountByCustomerID  Total_Price  class\n",
       "163     12413.0               38.0        680.2      0"
      ]
     },
     "execution_count": 29,
     "metadata": {},
     "output_type": "execute_result"
    }
   ],
   "source": [
    "target[target['CustomerID']==12413]"
   ]
  },
  {
   "cell_type": "code",
   "execution_count": 30,
   "id": "924f1a7f",
   "metadata": {
    "scrolled": true
   },
   "outputs": [
    {
     "data": {
      "text/html": [
       "<div>\n",
       "<style scoped>\n",
       "    .dataframe tbody tr th:only-of-type {\n",
       "        vertical-align: middle;\n",
       "    }\n",
       "\n",
       "    .dataframe tbody tr th {\n",
       "        vertical-align: top;\n",
       "    }\n",
       "\n",
       "    .dataframe thead th {\n",
       "        text-align: right;\n",
       "    }\n",
       "</style>\n",
       "<table border=\"1\" class=\"dataframe\">\n",
       "  <thead>\n",
       "    <tr style=\"text-align: right;\">\n",
       "      <th></th>\n",
       "      <th>InvoiceNo</th>\n",
       "      <th>StockCode</th>\n",
       "      <th>Description</th>\n",
       "      <th>Quantity</th>\n",
       "      <th>InvoiceDate</th>\n",
       "      <th>UnitPrice</th>\n",
       "      <th>CustomerID</th>\n",
       "      <th>Country</th>\n",
       "      <th>Total_Price</th>\n",
       "      <th>Description_PP</th>\n",
       "    </tr>\n",
       "  </thead>\n",
       "  <tbody>\n",
       "    <tr>\n",
       "      <th>91</th>\n",
       "      <td>569402</td>\n",
       "      <td>22457</td>\n",
       "      <td>NATURAL SLATE HEART CHALKBOARD</td>\n",
       "      <td>6.0</td>\n",
       "      <td>10/4/2011 9:00</td>\n",
       "      <td>2.95</td>\n",
       "      <td>12413.0</td>\n",
       "      <td>France</td>\n",
       "      <td>17.7</td>\n",
       "      <td>1513</td>\n",
       "    </tr>\n",
       "    <tr>\n",
       "      <th>567</th>\n",
       "      <td>569402</td>\n",
       "      <td>22138</td>\n",
       "      <td>BAKING SET 9 PIECE RETROSPOT</td>\n",
       "      <td>6.0</td>\n",
       "      <td>10/4/2011 9:00</td>\n",
       "      <td>4.95</td>\n",
       "      <td>12413.0</td>\n",
       "      <td>France</td>\n",
       "      <td>29.7</td>\n",
       "      <td>191</td>\n",
       "    </tr>\n",
       "    <tr>\n",
       "      <th>749</th>\n",
       "      <td>550338</td>\n",
       "      <td>23051</td>\n",
       "      <td>RECYCLED ACAPULCO MAT BLUE</td>\n",
       "      <td>2.0</td>\n",
       "      <td>4/17/2011 15:33</td>\n",
       "      <td>7.50</td>\n",
       "      <td>12413.0</td>\n",
       "      <td>France</td>\n",
       "      <td>15.0</td>\n",
       "      <td>1847</td>\n",
       "    </tr>\n",
       "    <tr>\n",
       "      <th>1683</th>\n",
       "      <td>540365</td>\n",
       "      <td>22750</td>\n",
       "      <td>FELTCRAFT PRINCESS LOLA DOLL</td>\n",
       "      <td>4.0</td>\n",
       "      <td>1/6/2011 16:12</td>\n",
       "      <td>3.75</td>\n",
       "      <td>12413.0</td>\n",
       "      <td>France</td>\n",
       "      <td>15.0</td>\n",
       "      <td>855</td>\n",
       "    </tr>\n",
       "    <tr>\n",
       "      <th>2349</th>\n",
       "      <td>569402</td>\n",
       "      <td>POST</td>\n",
       "      <td>POSTAGE</td>\n",
       "      <td>1.0</td>\n",
       "      <td>10/4/2011 9:00</td>\n",
       "      <td>7.50</td>\n",
       "      <td>12413.0</td>\n",
       "      <td>France</td>\n",
       "      <td>7.5</td>\n",
       "      <td>1818</td>\n",
       "    </tr>\n",
       "  </tbody>\n",
       "</table>\n",
       "</div>"
      ],
      "text/plain": [
       "     InvoiceNo StockCode                      Description  Quantity  \\\n",
       "91      569402     22457  NATURAL SLATE HEART CHALKBOARD        6.0   \n",
       "567     569402     22138    BAKING SET 9 PIECE RETROSPOT        6.0   \n",
       "749     550338     23051       RECYCLED ACAPULCO MAT BLUE       2.0   \n",
       "1683    540365     22750     FELTCRAFT PRINCESS LOLA DOLL       4.0   \n",
       "2349    569402      POST                          POSTAGE       1.0   \n",
       "\n",
       "          InvoiceDate  UnitPrice  CustomerID Country  Total_Price  \\\n",
       "91     10/4/2011 9:00       2.95     12413.0  France         17.7   \n",
       "567    10/4/2011 9:00       4.95     12413.0  France         29.7   \n",
       "749   4/17/2011 15:33       7.50     12413.0  France         15.0   \n",
       "1683   1/6/2011 16:12       3.75     12413.0  France         15.0   \n",
       "2349   10/4/2011 9:00       7.50     12413.0  France          7.5   \n",
       "\n",
       "      Description_PP  \n",
       "91              1513  \n",
       "567              191  \n",
       "749             1847  \n",
       "1683             855  \n",
       "2349            1818  "
      ]
     },
     "execution_count": 30,
     "metadata": {},
     "output_type": "execute_result"
    }
   ],
   "source": [
    "df[df['CustomerID']==12413].head()"
   ]
  },
  {
   "cell_type": "markdown",
   "id": "a81aacbc",
   "metadata": {},
   "source": [
    "해당 고객은 class 가 0으로 분류되어있다.   \n",
    "0번 고객은 비교적 총 구매액과 총 구매 횟수가 낮은 그룹인 것이 특징이다.  \n",
    "따라서 0번 그룹에서 구매한 상품들을 추천하면 해당 고객의 구매 가능성이 높을 것이라고 예상할 수 있다.  "
   ]
  },
  {
   "cell_type": "code",
   "execution_count": 31,
   "id": "d29c832c",
   "metadata": {},
   "outputs": [
    {
     "data": {
      "text/plain": [
       "POSTAGE                                288\n",
       "ROUND SNACK BOXES SET OF4 WOODLAND      54\n",
       "PLASTERS IN TIN WOODLAND ANIMALS        38\n",
       "BAKING SET 9 PIECE RETROSPOT            32\n",
       "PACK OF 72 RETROSPOT CAKE CASES         32\n",
       "                                      ... \n",
       "BLUE POT PLANT CANDLE                    1\n",
       "AIRLINE LOUNGE,METAL SIGN                1\n",
       "GREEN GIANT GARDEN THERMOMETER           1\n",
       "PANTRY PASTRY BRUSH                      1\n",
       "12 MESSAGE CARDS WITH ENVELOPES          1\n",
       "Name: Description, Length: 1660, dtype: int64"
      ]
     },
     "execution_count": 31,
     "metadata": {},
     "output_type": "execute_result"
    }
   ],
   "source": [
    "df[df['CustomerID'].isin(target[target['class'].map(lambda x: x==0)]['CustomerID'])]['Description'].value_counts()"
   ]
  },
  {
   "cell_type": "code",
   "execution_count": 32,
   "id": "9f7d0885",
   "metadata": {},
   "outputs": [
    {
     "data": {
      "text/plain": [
       "['GLASS STAR FROSTED T-LIGHT HOLDER',\n",
       " 'FAIRY CAKES NOTEBOOK A6 SIZE',\n",
       " 'OFFICE MUG WARMER POLKADOT',\n",
       " 'WHITE GOOSE FEATHER CHRISTMAS TREE ',\n",
       " 'EASTER TIN BUNNY BOUQUET']"
      ]
     },
     "execution_count": 32,
     "metadata": {},
     "output_type": "execute_result"
    }
   ],
   "source": [
    "len(set(df[df['CustomerID'].isin(target[target['class'].map(lambda x: x==0)]['CustomerID'])]['Description']))\n",
    "recommend = list(set(df[df['CustomerID'].isin(target[target['class'].map(lambda x: x==0)]['CustomerID'])]['Description'].value_counts().index))\n",
    "recommend[:5]"
   ]
  },
  {
   "cell_type": "markdown",
   "id": "b20f0431",
   "metadata": {},
   "source": [
    "**3** 철강제품의 불량률을 조사하고자 한다. 이 때, 불량률의 90%, 추정오차한계가 5% 이내가 되기 위하여 적절한 표본의 크기 중 최소값은 얼마인가?"
   ]
  },
  {
   "cell_type": "code",
   "execution_count": 14,
   "id": "50e113e4",
   "metadata": {},
   "outputs": [
    {
     "data": {
      "text/plain": [
       "96.82559999999997"
      ]
     },
     "execution_count": 14,
     "metadata": {},
     "output_type": "execute_result"
    }
   ],
   "source": [
    "import scipy.stats as stats\n",
    "1.64*1.64*0.09/(0.05*0.05)"
   ]
  },
  {
   "cell_type": "markdown",
   "id": "572a4322",
   "metadata": {},
   "source": [
    "**4** 다음은 1월부터 9월까지의 은의 가격이다\n",
    "![image](https://github.com/Datamanim/datarepo/blob/main/adp/26/problem2.png?raw=true)\n"
   ]
  },
  {
   "cell_type": "markdown",
   "id": "2c7b337e",
   "metadata": {},
   "source": [
    "**4-1** 은의 가격 및 이동평균값 3이 설정된 시계열 그래프를 그려라"
   ]
  },
  {
   "cell_type": "code",
   "execution_count": 33,
   "id": "e616d890",
   "metadata": {},
   "outputs": [
    {
     "data": {
      "text/plain": [
       "array([12.14, 42.6 , 34.4 , 35.29, 30.96, 57.12, 37.84, 42.49, 31.38])"
      ]
     },
     "execution_count": 33,
     "metadata": {},
     "output_type": "execute_result"
    }
   ],
   "source": [
    "import numpy as np\n",
    "import pandas as pd\n",
    "silver = np.array([12.14, 42.6, 34.4, 35.29, 30.96, 57.12, 37.84, 42.49, 31.38])\n",
    "silver"
   ]
  },
  {
   "cell_type": "code",
   "execution_count": 34,
   "id": "7db2f929",
   "metadata": {
    "scrolled": false
   },
   "outputs": [
    {
     "data": {
      "text/plain": [
       "<AxesSubplot:>"
      ]
     },
     "execution_count": 34,
     "metadata": {},
     "output_type": "execute_result"
    },
    {
     "data": {
      "image/png": "[encoded data removed]",
      "text/plain": [
       "<Figure size 640x480 with 1 Axes>"
      ]
     },
     "metadata": {},
     "output_type": "display_data"
    }
   ],
   "source": [
    "df = pd.DataFrame({'silver':silver})\n",
    "df['silver'].rolling(3).mean().plot()"
   ]
  },
  {
   "cell_type": "markdown",
   "id": "7d8f4752",
   "metadata": {},
   "source": [
    "**4-2** 1월 대비 9월의 은의 가격은 몇 % 올랐는가? 소수점 두번째 자리에서 반올림"
   ]
  },
  {
   "cell_type": "code",
   "execution_count": 35,
   "id": "6311b233",
   "metadata": {},
   "outputs": [
    {
     "name": "stdout",
     "output_type": "stream",
     "text": [
      "58.48%\n"
     ]
    }
   ],
   "source": [
    "print(str((round((31.38 - 12.14)/12.14,4) - 1)*100) + '%')"
   ]
  },
  {
   "cell_type": "markdown",
   "id": "794cb05c",
   "metadata": {},
   "source": [
    "**5** A,B,C 자치구별 W 의원에 대한 찬성, 반대 지지를 나타낸다.자치구별 지지율이 같은지에 대해서 검정하라\n",
    "![image](https://github.com/Datamanim/datarepo/blob/main/adp/26/problem3.png?raw=true)"
   ]
  },
  {
   "cell_type": "markdown",
   "id": "b292584b",
   "metadata": {},
   "source": [
    "**5-1** 연구가설과 귀무가설을 설정하라"
   ]
  },
  {
   "cell_type": "markdown",
   "id": "533d1b31",
   "metadata": {},
   "source": [
    "A, B, C 자치구에서 W 의원에 대한 찬성, 반대, 지지 표를 수집했다면, 이를 이용하여 자치구별 지지율이 같은지 검정할 수 있습니다.  \n",
    "\n",
    "가설 설정:  \n",
    "\n",
    "귀무가설 H0: 자치구별 지지율이 모두 같다.  \n",
    "대립가설 H1: 자치구별 지지율 중 적어도 하나는 다르다.  "
   ]
  },
  {
   "cell_type": "markdown",
   "id": "c8c16ebe",
   "metadata": {},
   "source": [
    "**5-2** 검정통계량 구하고 결론을 내라"
   ]
  },
  {
   "cell_type": "code",
   "execution_count": 36,
   "id": "62d2a0ba",
   "metadata": {},
   "outputs": [
    {
     "name": "stdout",
     "output_type": "stream",
     "text": [
      "Statistic: 7.945381231671554\n",
      "p-value: 0.01882272023214683\n",
      "df: 2\n",
      "expect: \n",
      " [[176. 176. 176.]\n",
      " [124. 124. 124.]]\n",
      "\n",
      " p-value가 유의수준 0.05보다 작으므로 귀무가설을 기각\n",
      "\n",
      " 자치구별 찬성/반대는 동일하지 않다고 할 수 있다. \n"
     ]
    }
   ],
   "source": [
    "# 카이제곱 검정을 통한 독립성 검정 수행\n",
    "from scipy.stats import chi2_contingency\n",
    "A = [176, 124]\n",
    "B = [193, 107]\n",
    "C = [159, 141]\n",
    "df = pd.DataFrame({'A':A, 'B': B, 'C':C}, index=['찬성','반대'])\n",
    "\n",
    "\n",
    "chi, p, df, expect = chi2_contingency(df) \n",
    "\n",
    "print('Statistic:', chi)\n",
    "print('p-value:', p)\n",
    "print('df:', df)\n",
    "print('expect: \\n', expect)\n",
    "\n",
    "print(\"\\n p-value가 유의수준 0.05보다 작으므로 귀무가설을 기각\")\n",
    "print(\"\\n 자치구별 찬성/반대는 동일하지 않다고 할 수 있다. \")"
   ]
  },
  {
   "cell_type": "markdown",
   "id": "1a868b7d",
   "metadata": {},
   "source": [
    "**6** A초등학교 남학생 16명과 여학생 9명의 혈압을 측정한 problem4.csv파일을 가지고 남녀학생의 평균 혈압에 차이가 없는지 분석하라. 단, 남학생과 여학생의 혈압 데이터는 정규분포를 따르며 등분산임을 가정한다."
   ]
  },
  {
   "cell_type": "code",
   "execution_count": 37,
   "id": "fb344e82",
   "metadata": {},
   "outputs": [
    {
     "data": {
      "text/html": [
       "<div>\n",
       "<style scoped>\n",
       "    .dataframe tbody tr th:only-of-type {\n",
       "        vertical-align: middle;\n",
       "    }\n",
       "\n",
       "    .dataframe tbody tr th {\n",
       "        vertical-align: top;\n",
       "    }\n",
       "\n",
       "    .dataframe thead th {\n",
       "        text-align: right;\n",
       "    }\n",
       "</style>\n",
       "<table border=\"1\" class=\"dataframe\">\n",
       "  <thead>\n",
       "    <tr style=\"text-align: right;\">\n",
       "      <th></th>\n",
       "      <th>gender</th>\n",
       "      <th>pressure</th>\n",
       "    </tr>\n",
       "  </thead>\n",
       "  <tbody>\n",
       "    <tr>\n",
       "      <th>0</th>\n",
       "      <td>male</td>\n",
       "      <td>106.8</td>\n",
       "    </tr>\n",
       "    <tr>\n",
       "      <th>1</th>\n",
       "      <td>male</td>\n",
       "      <td>100.8</td>\n",
       "    </tr>\n",
       "    <tr>\n",
       "      <th>2</th>\n",
       "      <td>male</td>\n",
       "      <td>84.5</td>\n",
       "    </tr>\n",
       "    <tr>\n",
       "      <th>3</th>\n",
       "      <td>male</td>\n",
       "      <td>104.2</td>\n",
       "    </tr>\n",
       "    <tr>\n",
       "      <th>4</th>\n",
       "      <td>male</td>\n",
       "      <td>107.0</td>\n",
       "    </tr>\n",
       "  </tbody>\n",
       "</table>\n",
       "</div>"
      ],
      "text/plain": [
       "  gender  pressure\n",
       "0   male     106.8\n",
       "1   male     100.8\n",
       "2   male      84.5\n",
       "3   male     104.2\n",
       "4   male     107.0"
      ]
     },
     "execution_count": 37,
     "metadata": {},
     "output_type": "execute_result"
    }
   ],
   "source": [
    "df = pd.read_csv('./problem6.csv')\n",
    "df.head()"
   ]
  },
  {
   "cell_type": "markdown",
   "id": "24f08bb0",
   "metadata": {},
   "source": [
    "**6-1** 연구가설과 귀무가설 설정하라"
   ]
  },
  {
   "cell_type": "markdown",
   "id": "9ae88541",
   "metadata": {},
   "source": [
    "독립표본 T-검정 개념   \n",
    "* 두 개의 독립된 모집단의 평균을 비교\n",
    "* 모집단, 모수, 표본이 모두 두 개씩 존재\n",
    "* 가정\n",
    ">두 모집단은 정규성 만족해야함  \n",
    ">두 모집단의 분산이 서로 같아야 함 (등분산성 가정)  \n",
    ">독립변수는 범주형, 종속변수는 연속형  \n",
    "\n",
    "* 가설 검정  \n",
    "> 귀무가설 : 남녀 집단의 평균 혈압은 동일하다.  \n",
    "> 대립가설 : 남녀 집단의 평균 혈압은 다르다.  "
   ]
  },
  {
   "cell_type": "markdown",
   "id": "e59a0dcc",
   "metadata": {},
   "source": [
    "**6-2** 통계량을 구하고, 연구가설 채택여부를 기술하라"
   ]
  },
  {
   "cell_type": "code",
   "execution_count": 38,
   "id": "98f51437",
   "metadata": {},
   "outputs": [
    {
     "name": "stdout",
     "output_type": "stream",
     "text": [
      "t-value: [-1.59833502]\n",
      "p-value: 0.01882272023214683\n",
      "\n",
      "p-value가 유의수준 0.05보다 크므로 귀무가설을 채택\n",
      "\n",
      "따라서 남녀 평균 혈압은 동일하다. \n"
     ]
    }
   ],
   "source": [
    "import scipy.stats as stats\n",
    "\n",
    "female = df.loc[df.gender == 'female', ['pressure']]\n",
    "male = df.loc[df.gender == 'male', ['pressure']]\n",
    "\n",
    "\n",
    "statistic, pvalue = stats.ttest_ind(female, male, equal_var=True)\n",
    "\n",
    "print('t-value:', statistic)\n",
    "print('p-value:', p)\n",
    "\n",
    "print(\"\\np-value가 유의수준 0.05보다 크므로 귀무가설을 채택\")\n",
    "print(\"\\n따라서 남녀 평균 혈압은 동일하다. \")"
   ]
  },
  {
   "cell_type": "markdown",
   "id": "91144f30",
   "metadata": {},
   "source": [
    "**6-3** 6-2에서 구한 검정 통계량 값을 바탕으로 신뢰구간을 구하라"
   ]
  },
  {
   "cell_type": "code",
   "execution_count": 39,
   "id": "2734ced9",
   "metadata": {},
   "outputs": [
    {
     "data": {
      "text/plain": [
       "(91.45648960964819, 100.98101039035184)"
      ]
     },
     "execution_count": 39,
     "metadata": {},
     "output_type": "execute_result"
    }
   ],
   "source": [
    "import scipy.stats as stats\n",
    "\n",
    "n = len(male)\n",
    "x_bar = male.mean()[0]\n",
    "s = male.std()[0]\n",
    "alpha = 0.05\n",
    "df = n - 1\n",
    "\n",
    "interval = stats.t.interval(alpha=1-alpha, df=df, loc=x_bar, scale=s/(n**0.5))\n",
    "interval"
   ]
  },
  {
   "cell_type": "code",
   "execution_count": 40,
   "id": "b76d2712",
   "metadata": {},
   "outputs": [
    {
     "data": {
      "text/plain": [
       "(81.91756912051609, 97.9046531017061)"
      ]
     },
     "execution_count": 40,
     "metadata": {},
     "output_type": "execute_result"
    }
   ],
   "source": [
    "import scipy.stats as stats\n",
    "\n",
    "n = len(female)\n",
    "x_bar = female.mean()[0]\n",
    "s = female.std()[0]\n",
    "alpha = 0.05\n",
    "df = n - 1\n",
    "\n",
    "interval = stats.t.interval(alpha=1-alpha, df=df, loc=x_bar, scale=s/(n**0.5))\n",
    "interval"
   ]
  },
  {
   "cell_type": "markdown",
   "id": "fda91a03",
   "metadata": {},
   "source": [
    "**7** height(키), weight(몸무게), waist(허리둘레) 컬럼을 가진 problem7.csv파일을 가지고 다음을 분석하라.  \n",
    "A시의 20대 남성 411명을 임의로 추출하여 키, 몸무게, 허리둘레를 조사하여 기록한 데이터이다.  \n",
    "이 데이터를 이용하여 20대 남성의 키와 허리둘레가 체중에 영향을 미치는지 알아보고자 한다  "
   ]
  },
  {
   "cell_type": "code",
   "execution_count": 7,
   "id": "c2409e18",
   "metadata": {},
   "outputs": [
    {
     "data": {
      "text/html": [
       "<div>\n",
       "<style scoped>\n",
       "    .dataframe tbody tr th:only-of-type {\n",
       "        vertical-align: middle;\n",
       "    }\n",
       "\n",
       "    .dataframe tbody tr th {\n",
       "        vertical-align: top;\n",
       "    }\n",
       "\n",
       "    .dataframe thead th {\n",
       "        text-align: right;\n",
       "    }\n",
       "</style>\n",
       "<table border=\"1\" class=\"dataframe\">\n",
       "  <thead>\n",
       "    <tr style=\"text-align: right;\">\n",
       "      <th></th>\n",
       "      <th>height</th>\n",
       "      <th>weight</th>\n",
       "      <th>waistline</th>\n",
       "    </tr>\n",
       "  </thead>\n",
       "  <tbody>\n",
       "    <tr>\n",
       "      <th>0</th>\n",
       "      <td>174.396</td>\n",
       "      <td>72.102</td>\n",
       "      <td>79.3787</td>\n",
       "    </tr>\n",
       "    <tr>\n",
       "      <th>1</th>\n",
       "      <td>179.656</td>\n",
       "      <td>81.255</td>\n",
       "      <td>80.6649</td>\n",
       "    </tr>\n",
       "    <tr>\n",
       "      <th>2</th>\n",
       "      <td>175.079</td>\n",
       "      <td>76.207</td>\n",
       "      <td>80.3166</td>\n",
       "    </tr>\n",
       "    <tr>\n",
       "      <th>3</th>\n",
       "      <td>180.804</td>\n",
       "      <td>81.354</td>\n",
       "      <td>80.8794</td>\n",
       "    </tr>\n",
       "    <tr>\n",
       "      <th>4</th>\n",
       "      <td>177.448</td>\n",
       "      <td>78.768</td>\n",
       "      <td>80.3499</td>\n",
       "    </tr>\n",
       "  </tbody>\n",
       "</table>\n",
       "</div>"
      ],
      "text/plain": [
       "    height  weight  waistline\n",
       "0  174.396  72.102    79.3787\n",
       "1  179.656  81.255    80.6649\n",
       "2  175.079  76.207    80.3166\n",
       "3  180.804  81.354    80.8794\n",
       "4  177.448  78.768    80.3499"
      ]
     },
     "execution_count": 7,
     "metadata": {},
     "output_type": "execute_result"
    }
   ],
   "source": [
    "import pandas as pd\n",
    "import warnings\n",
    "warnings.simplefilter('ignore')\n",
    "\n",
    "import pymc3 as pm\n",
    "import numpy as np\n",
    "np.random.seed(1234)\n",
    "import matplotlib as mpl\n",
    "import matplotlib.pyplot as plt\n",
    "\n",
    "df=pd.read_csv('problem7.csv')\n",
    "df.head()"
   ]
  },
  {
   "cell_type": "code",
   "execution_count": 41,
   "id": "37bacf9b",
   "metadata": {},
   "outputs": [
    {
     "data": {
      "text/plain": [
       "0.652222894393365"
      ]
     },
     "execution_count": 41,
     "metadata": {},
     "output_type": "execute_result"
    }
   ],
   "source": [
    "np.random.uniform()"
   ]
  },
  {
   "cell_type": "markdown",
   "id": "036514dd",
   "metadata": {},
   "source": [
    "**7-1**  \n",
    "아래 조건을 참고하여 회귀계수(반올림하여 소수점 두자리)를 구하시오.  \n",
    "베이지안 회귀  \n",
    "시드넘버 1234로 지정  \n",
    "1000번의 burn-in 이후 10,000의 MCMC(마르코프 연쇄 몬테카를로)를 수행  \n",
    "회귀계수의 사전분포는 부적절한 균일분포(inproper uniform prior distribution), 오차항의 분산의 사전분포는 역감마 분포로 지정. 이때, 형상(Shape)모수와 척도(Scale)모수는 각각 0.005로 지정.  "
   ]
  },
  {
   "cell_type": "code",
   "execution_count": 17,
   "id": "a3f6224e",
   "metadata": {},
   "outputs": [
    {
     "name": "stderr",
     "output_type": "stream",
     "text": [
      "Only 100 samples in chain.\n",
      "Auto-assigning NUTS sampler...\n",
      "Initializing NUTS using jitter+adapt_diag...\n",
      "Sequential sampling (2 chains in 1 job)\n",
      "NUTS: [sigma, b2, b1, b0]\n"
     ]
    },
    {
     "data": {
      "text/html": [
       "\n",
       "<style>\n",
       "    /* Turns off some styling */\n",
       "    progress {\n",
       "        /* gets rid of default border in Firefox and Opera. */\n",
       "        border: none;\n",
       "        /* Needs to be in here for Safari polyfill so background images work as expected. */\n",
       "        background-size: auto;\n",
       "    }\n",
       "    progress:not([value]), progress:not([value])::-webkit-progress-bar {\n",
       "        background: repeating-linear-gradient(45deg, #7e7e7e, #7e7e7e 10px, #5c5c5c 10px, #5c5c5c 20px);\n",
       "    }\n",
       "    .progress-bar-interrupted, .progress-bar-interrupted::-webkit-progress-bar {\n",
       "        background: #F44336;\n",
       "    }\n",
       "</style>\n"
      ],
      "text/plain": [
       "<IPython.core.display.HTML object>"
      ]
     },
     "metadata": {},
     "output_type": "display_data"
    },
    {
     "data": {
      "text/html": [
       "\n",
       "    <div>\n",
       "      <progress value='0' class='progress-bar-interrupted' max='1100' style='width:300px; height:20px; vertical-align: middle;'></progress>\n",
       "      Interrupted\n",
       "    </div>\n",
       "    "
      ],
      "text/plain": [
       "<IPython.core.display.HTML object>"
      ]
     },
     "metadata": {},
     "output_type": "display_data"
    },
    {
     "ename": "ValueError",
     "evalue": "Mass matrix contains zeros on the diagonal. \nThe derivative of RV `b0_interval__`.ravel()[0] is zero.",
     "output_type": "error",
     "traceback": [
      "\u001b[1;31m---------------------------------------------------------------------------\u001b[0m",
      "\u001b[1;31mValueError\u001b[0m                                Traceback (most recent call last)",
      "\u001b[1;32m~\\AppData\\Local\\Temp\\ipykernel_15496\\744698974.py\u001b[0m in \u001b[0;36m<module>\u001b[1;34m\u001b[0m\n\u001b[0;32m     13\u001b[0m     \u001b[0my_obs\u001b[0m \u001b[1;33m=\u001b[0m \u001b[0mpm\u001b[0m\u001b[1;33m.\u001b[0m\u001b[0mNormal\u001b[0m\u001b[1;33m(\u001b[0m\u001b[1;34m'y_obs'\u001b[0m\u001b[1;33m,\u001b[0m \u001b[0mmu\u001b[0m\u001b[1;33m=\u001b[0m\u001b[0mmu\u001b[0m\u001b[1;33m,\u001b[0m \u001b[0msigma\u001b[0m\u001b[1;33m=\u001b[0m\u001b[0msigma\u001b[0m\u001b[1;33m,\u001b[0m \u001b[0mobserved\u001b[0m\u001b[1;33m=\u001b[0m\u001b[0mweight\u001b[0m\u001b[1;33m)\u001b[0m\u001b[1;33m\u001b[0m\u001b[1;33m\u001b[0m\u001b[0m\n\u001b[0;32m     14\u001b[0m \u001b[1;33m\u001b[0m\u001b[0m\n\u001b[1;32m---> 15\u001b[1;33m     \u001b[0mtrace\u001b[0m \u001b[1;33m=\u001b[0m \u001b[0mpm\u001b[0m\u001b[1;33m.\u001b[0m\u001b[0msample\u001b[0m\u001b[1;33m(\u001b[0m\u001b[1;36m100\u001b[0m\u001b[1;33m,\u001b[0m \u001b[0mtune\u001b[0m\u001b[1;33m=\u001b[0m\u001b[1;36m1000\u001b[0m\u001b[1;33m,\u001b[0m \u001b[0mcores\u001b[0m\u001b[1;33m=\u001b[0m\u001b[1;36m1\u001b[0m\u001b[1;33m,\u001b[0m \u001b[0mrandom_seed\u001b[0m\u001b[1;33m=\u001b[0m\u001b[1;36m1234\u001b[0m\u001b[1;33m)\u001b[0m\u001b[1;33m\u001b[0m\u001b[1;33m\u001b[0m\u001b[0m\n\u001b[0m\u001b[0;32m     16\u001b[0m \u001b[0mpm\u001b[0m\u001b[1;33m.\u001b[0m\u001b[0msummary\u001b[0m\u001b[1;33m(\u001b[0m\u001b[0mtrace\u001b[0m\u001b[1;33m,\u001b[0m \u001b[0mvar_names\u001b[0m\u001b[1;33m=\u001b[0m\u001b[1;33m[\u001b[0m\u001b[1;34m'b0'\u001b[0m\u001b[1;33m,\u001b[0m \u001b[1;34m'b1'\u001b[0m\u001b[1;33m,\u001b[0m \u001b[1;34m'b2'\u001b[0m\u001b[1;33m,\u001b[0m \u001b[1;34m'sigma'\u001b[0m\u001b[1;33m]\u001b[0m\u001b[1;33m)\u001b[0m\u001b[1;33m\u001b[0m\u001b[1;33m\u001b[0m\u001b[0m\n",
      "\u001b[1;32m~\\AppData\\Roaming\\Python\\Python39\\site-packages\\deprecat\\classic.py\u001b[0m in \u001b[0;36mwrapper_function\u001b[1;34m(wrapped_, instance_, args_, kwargs_)\u001b[0m\n\u001b[0;32m    213\u001b[0m                         \u001b[1;32melse\u001b[0m\u001b[1;33m:\u001b[0m\u001b[1;33m\u001b[0m\u001b[1;33m\u001b[0m\u001b[0m\n\u001b[0;32m    214\u001b[0m                             \u001b[0mwarnings\u001b[0m\u001b[1;33m.\u001b[0m\u001b[0mwarn\u001b[0m\u001b[1;33m(\u001b[0m\u001b[0mmessage\u001b[0m\u001b[1;33m,\u001b[0m \u001b[0mcategory\u001b[0m\u001b[1;33m=\u001b[0m\u001b[0mcategory\u001b[0m\u001b[1;33m,\u001b[0m \u001b[0mstacklevel\u001b[0m\u001b[1;33m=\u001b[0m\u001b[0m_routine_stacklevel\u001b[0m\u001b[1;33m)\u001b[0m\u001b[1;33m\u001b[0m\u001b[1;33m\u001b[0m\u001b[0m\n\u001b[1;32m--> 215\u001b[1;33m                 \u001b[1;32mreturn\u001b[0m \u001b[0mwrapped_\u001b[0m\u001b[1;33m(\u001b[0m\u001b[1;33m*\u001b[0m\u001b[0margs_\u001b[0m\u001b[1;33m,\u001b[0m \u001b[1;33m**\u001b[0m\u001b[0mkwargs_\u001b[0m\u001b[1;33m)\u001b[0m\u001b[1;33m\u001b[0m\u001b[1;33m\u001b[0m\u001b[0m\n\u001b[0m\u001b[0;32m    216\u001b[0m \u001b[1;33m\u001b[0m\u001b[0m\n\u001b[0;32m    217\u001b[0m             \u001b[1;32mreturn\u001b[0m \u001b[0mwrapper_function\u001b[0m\u001b[1;33m(\u001b[0m\u001b[0mwrapped\u001b[0m\u001b[1;33m)\u001b[0m\u001b[1;33m\u001b[0m\u001b[1;33m\u001b[0m\u001b[0m\n",
      "\u001b[1;32m~\\AppData\\Roaming\\Python\\Python39\\site-packages\\pymc3\\sampling.py\u001b[0m in \u001b[0;36msample\u001b[1;34m(draws, step, init, n_init, initvals, trace, chain_idx, chains, cores, tune, progressbar, model, random_seed, discard_tuned_samples, compute_convergence_checks, callback, jitter_max_retries, start, return_inferencedata, idata_kwargs, mp_ctx, pickle_backend, **kwargs)\u001b[0m\n\u001b[0;32m    611\u001b[0m             \u001b[0m_log\u001b[0m\u001b[1;33m.\u001b[0m\u001b[0minfo\u001b[0m\u001b[1;33m(\u001b[0m\u001b[1;34mf\"Sequential sampling ({chains} chains in 1 job)\"\u001b[0m\u001b[1;33m)\u001b[0m\u001b[1;33m\u001b[0m\u001b[1;33m\u001b[0m\u001b[0m\n\u001b[0;32m    612\u001b[0m             \u001b[0m_print_step_hierarchy\u001b[0m\u001b[1;33m(\u001b[0m\u001b[0mstep\u001b[0m\u001b[1;33m)\u001b[0m\u001b[1;33m\u001b[0m\u001b[1;33m\u001b[0m\u001b[0m\n\u001b[1;32m--> 613\u001b[1;33m             \u001b[0mtrace\u001b[0m \u001b[1;33m=\u001b[0m \u001b[0m_sample_many\u001b[0m\u001b[1;33m(\u001b[0m\u001b[1;33m**\u001b[0m\u001b[0msample_args\u001b[0m\u001b[1;33m)\u001b[0m\u001b[1;33m\u001b[0m\u001b[1;33m\u001b[0m\u001b[0m\n\u001b[0m\u001b[0;32m    614\u001b[0m \u001b[1;33m\u001b[0m\u001b[0m\n\u001b[0;32m    615\u001b[0m     \u001b[0mt_sampling\u001b[0m \u001b[1;33m=\u001b[0m \u001b[0mtime\u001b[0m\u001b[1;33m.\u001b[0m\u001b[0mtime\u001b[0m\u001b[1;33m(\u001b[0m\u001b[1;33m)\u001b[0m \u001b[1;33m-\u001b[0m \u001b[0mt_start\u001b[0m\u001b[1;33m\u001b[0m\u001b[1;33m\u001b[0m\u001b[0m\n",
      "\u001b[1;32m~\\AppData\\Roaming\\Python\\Python39\\site-packages\\pymc3\\sampling.py\u001b[0m in \u001b[0;36m_sample_many\u001b[1;34m(draws, chain, chains, start, random_seed, step, callback, **kwargs)\u001b[0m\n\u001b[0;32m    727\u001b[0m     \u001b[0mtraces\u001b[0m\u001b[1;33m:\u001b[0m \u001b[0mList\u001b[0m\u001b[1;33m[\u001b[0m\u001b[0mBackend\u001b[0m\u001b[1;33m]\u001b[0m \u001b[1;33m=\u001b[0m \u001b[1;33m[\u001b[0m\u001b[1;33m]\u001b[0m\u001b[1;33m\u001b[0m\u001b[1;33m\u001b[0m\u001b[0m\n\u001b[0;32m    728\u001b[0m     \u001b[1;32mfor\u001b[0m \u001b[0mi\u001b[0m \u001b[1;32min\u001b[0m \u001b[0mrange\u001b[0m\u001b[1;33m(\u001b[0m\u001b[0mchains\u001b[0m\u001b[1;33m)\u001b[0m\u001b[1;33m:\u001b[0m\u001b[1;33m\u001b[0m\u001b[1;33m\u001b[0m\u001b[0m\n\u001b[1;32m--> 729\u001b[1;33m         trace = _sample(\n\u001b[0m\u001b[0;32m    730\u001b[0m             \u001b[0mdraws\u001b[0m\u001b[1;33m=\u001b[0m\u001b[0mdraws\u001b[0m\u001b[1;33m,\u001b[0m\u001b[1;33m\u001b[0m\u001b[1;33m\u001b[0m\u001b[0m\n\u001b[0;32m    731\u001b[0m             \u001b[0mchain\u001b[0m\u001b[1;33m=\u001b[0m\u001b[0mchain\u001b[0m \u001b[1;33m+\u001b[0m \u001b[0mi\u001b[0m\u001b[1;33m,\u001b[0m\u001b[1;33m\u001b[0m\u001b[1;33m\u001b[0m\u001b[0m\n",
      "\u001b[1;32m~\\AppData\\Roaming\\Python\\Python39\\site-packages\\pymc3\\sampling.py\u001b[0m in \u001b[0;36m_sample\u001b[1;34m(chain, progressbar, random_seed, start, draws, step, trace, tune, model, callback, **kwargs)\u001b[0m\n\u001b[0;32m    869\u001b[0m     \u001b[1;32mtry\u001b[0m\u001b[1;33m:\u001b[0m\u001b[1;33m\u001b[0m\u001b[1;33m\u001b[0m\u001b[0m\n\u001b[0;32m    870\u001b[0m         \u001b[0mstrace\u001b[0m \u001b[1;33m=\u001b[0m \u001b[1;32mNone\u001b[0m\u001b[1;33m\u001b[0m\u001b[1;33m\u001b[0m\u001b[0m\n\u001b[1;32m--> 871\u001b[1;33m         \u001b[1;32mfor\u001b[0m \u001b[0mit\u001b[0m\u001b[1;33m,\u001b[0m \u001b[1;33m(\u001b[0m\u001b[0mstrace\u001b[0m\u001b[1;33m,\u001b[0m \u001b[0mdiverging\u001b[0m\u001b[1;33m)\u001b[0m \u001b[1;32min\u001b[0m \u001b[0menumerate\u001b[0m\u001b[1;33m(\u001b[0m\u001b[0msampling\u001b[0m\u001b[1;33m)\u001b[0m\u001b[1;33m:\u001b[0m\u001b[1;33m\u001b[0m\u001b[1;33m\u001b[0m\u001b[0m\n\u001b[0m\u001b[0;32m    872\u001b[0m             \u001b[1;32mif\u001b[0m \u001b[0mit\u001b[0m \u001b[1;33m>=\u001b[0m \u001b[0mskip_first\u001b[0m \u001b[1;32mand\u001b[0m \u001b[0mdiverging\u001b[0m\u001b[1;33m:\u001b[0m\u001b[1;33m\u001b[0m\u001b[1;33m\u001b[0m\u001b[0m\n\u001b[0;32m    873\u001b[0m                 \u001b[0m_pbar_data\u001b[0m\u001b[1;33m[\u001b[0m\u001b[1;34m\"divergences\"\u001b[0m\u001b[1;33m]\u001b[0m \u001b[1;33m+=\u001b[0m \u001b[1;36m1\u001b[0m\u001b[1;33m\u001b[0m\u001b[1;33m\u001b[0m\u001b[0m\n",
      "\u001b[1;32m~\\AppData\\Roaming\\Python\\Python39\\site-packages\\fastprogress\\fastprogress.py\u001b[0m in \u001b[0;36m__iter__\u001b[1;34m(self)\u001b[0m\n\u001b[0;32m     48\u001b[0m         \u001b[1;32mexcept\u001b[0m \u001b[0mException\u001b[0m \u001b[1;32mas\u001b[0m \u001b[0me\u001b[0m\u001b[1;33m:\u001b[0m\u001b[1;33m\u001b[0m\u001b[1;33m\u001b[0m\u001b[0m\n\u001b[0;32m     49\u001b[0m             \u001b[0mself\u001b[0m\u001b[1;33m.\u001b[0m\u001b[0mon_interrupt\u001b[0m\u001b[1;33m(\u001b[0m\u001b[1;33m)\u001b[0m\u001b[1;33m\u001b[0m\u001b[1;33m\u001b[0m\u001b[0m\n\u001b[1;32m---> 50\u001b[1;33m             \u001b[1;32mraise\u001b[0m \u001b[0me\u001b[0m\u001b[1;33m\u001b[0m\u001b[1;33m\u001b[0m\u001b[0m\n\u001b[0m\u001b[0;32m     51\u001b[0m \u001b[1;33m\u001b[0m\u001b[0m\n\u001b[0;32m     52\u001b[0m     \u001b[1;32mdef\u001b[0m \u001b[0mupdate\u001b[0m\u001b[1;33m(\u001b[0m\u001b[0mself\u001b[0m\u001b[1;33m,\u001b[0m \u001b[0mval\u001b[0m\u001b[1;33m)\u001b[0m\u001b[1;33m:\u001b[0m\u001b[1;33m\u001b[0m\u001b[1;33m\u001b[0m\u001b[0m\n",
      "\u001b[1;32m~\\AppData\\Roaming\\Python\\Python39\\site-packages\\fastprogress\\fastprogress.py\u001b[0m in \u001b[0;36m__iter__\u001b[1;34m(self)\u001b[0m\n\u001b[0;32m     39\u001b[0m         \u001b[1;32mif\u001b[0m \u001b[0mself\u001b[0m\u001b[1;33m.\u001b[0m\u001b[0mtotal\u001b[0m \u001b[1;33m!=\u001b[0m \u001b[1;36m0\u001b[0m\u001b[1;33m:\u001b[0m \u001b[0mself\u001b[0m\u001b[1;33m.\u001b[0m\u001b[0mupdate\u001b[0m\u001b[1;33m(\u001b[0m\u001b[1;36m0\u001b[0m\u001b[1;33m)\u001b[0m\u001b[1;33m\u001b[0m\u001b[1;33m\u001b[0m\u001b[0m\n\u001b[0;32m     40\u001b[0m         \u001b[1;32mtry\u001b[0m\u001b[1;33m:\u001b[0m\u001b[1;33m\u001b[0m\u001b[1;33m\u001b[0m\u001b[0m\n\u001b[1;32m---> 41\u001b[1;33m             \u001b[1;32mfor\u001b[0m \u001b[0mi\u001b[0m\u001b[1;33m,\u001b[0m\u001b[0mo\u001b[0m \u001b[1;32min\u001b[0m \u001b[0menumerate\u001b[0m\u001b[1;33m(\u001b[0m\u001b[0mself\u001b[0m\u001b[1;33m.\u001b[0m\u001b[0mgen\u001b[0m\u001b[1;33m)\u001b[0m\u001b[1;33m:\u001b[0m\u001b[1;33m\u001b[0m\u001b[1;33m\u001b[0m\u001b[0m\n\u001b[0m\u001b[0;32m     42\u001b[0m                 \u001b[1;32mif\u001b[0m \u001b[0mself\u001b[0m\u001b[1;33m.\u001b[0m\u001b[0mtotal\u001b[0m \u001b[1;32mand\u001b[0m \u001b[0mi\u001b[0m \u001b[1;33m>=\u001b[0m \u001b[0mself\u001b[0m\u001b[1;33m.\u001b[0m\u001b[0mtotal\u001b[0m\u001b[1;33m:\u001b[0m \u001b[1;32mbreak\u001b[0m\u001b[1;33m\u001b[0m\u001b[1;33m\u001b[0m\u001b[0m\n\u001b[0;32m     43\u001b[0m                 \u001b[1;32myield\u001b[0m \u001b[0mo\u001b[0m\u001b[1;33m\u001b[0m\u001b[1;33m\u001b[0m\u001b[0m\n",
      "\u001b[1;32m~\\AppData\\Roaming\\Python\\Python39\\site-packages\\pymc3\\sampling.py\u001b[0m in \u001b[0;36m_iter_sample\u001b[1;34m(draws, step, start, trace, chain, tune, model, random_seed, callback)\u001b[0m\n\u001b[0;32m   1024\u001b[0m                 \u001b[0mstep\u001b[0m \u001b[1;33m=\u001b[0m \u001b[0mstop_tuning\u001b[0m\u001b[1;33m(\u001b[0m\u001b[0mstep\u001b[0m\u001b[1;33m)\u001b[0m\u001b[1;33m\u001b[0m\u001b[1;33m\u001b[0m\u001b[0m\n\u001b[0;32m   1025\u001b[0m             \u001b[1;32mif\u001b[0m \u001b[0mstep\u001b[0m\u001b[1;33m.\u001b[0m\u001b[0mgenerates_stats\u001b[0m\u001b[1;33m:\u001b[0m\u001b[1;33m\u001b[0m\u001b[1;33m\u001b[0m\u001b[0m\n\u001b[1;32m-> 1026\u001b[1;33m                 \u001b[0mpoint\u001b[0m\u001b[1;33m,\u001b[0m \u001b[0mstats\u001b[0m \u001b[1;33m=\u001b[0m \u001b[0mstep\u001b[0m\u001b[1;33m.\u001b[0m\u001b[0mstep\u001b[0m\u001b[1;33m(\u001b[0m\u001b[0mpoint\u001b[0m\u001b[1;33m)\u001b[0m\u001b[1;33m\u001b[0m\u001b[1;33m\u001b[0m\u001b[0m\n\u001b[0m\u001b[0;32m   1027\u001b[0m                 \u001b[1;32mif\u001b[0m \u001b[0mstrace\u001b[0m\u001b[1;33m.\u001b[0m\u001b[0msupports_sampler_stats\u001b[0m\u001b[1;33m:\u001b[0m\u001b[1;33m\u001b[0m\u001b[1;33m\u001b[0m\u001b[0m\n\u001b[0;32m   1028\u001b[0m                     \u001b[0mstrace\u001b[0m\u001b[1;33m.\u001b[0m\u001b[0mrecord\u001b[0m\u001b[1;33m(\u001b[0m\u001b[0mpoint\u001b[0m\u001b[1;33m,\u001b[0m \u001b[0mstats\u001b[0m\u001b[1;33m)\u001b[0m\u001b[1;33m\u001b[0m\u001b[1;33m\u001b[0m\u001b[0m\n",
      "\u001b[1;32m~\\AppData\\Roaming\\Python\\Python39\\site-packages\\pymc3\\step_methods\\arraystep.py\u001b[0m in \u001b[0;36mstep\u001b[1;34m(self, point)\u001b[0m\n\u001b[0;32m    274\u001b[0m \u001b[1;33m\u001b[0m\u001b[0m\n\u001b[0;32m    275\u001b[0m         \u001b[1;32mif\u001b[0m \u001b[0mself\u001b[0m\u001b[1;33m.\u001b[0m\u001b[0mgenerates_stats\u001b[0m\u001b[1;33m:\u001b[0m\u001b[1;33m\u001b[0m\u001b[1;33m\u001b[0m\u001b[0m\n\u001b[1;32m--> 276\u001b[1;33m             \u001b[0mapoint\u001b[0m\u001b[1;33m,\u001b[0m \u001b[0mstats\u001b[0m \u001b[1;33m=\u001b[0m \u001b[0mself\u001b[0m\u001b[1;33m.\u001b[0m\u001b[0mastep\u001b[0m\u001b[1;33m(\u001b[0m\u001b[0marray\u001b[0m\u001b[1;33m)\u001b[0m\u001b[1;33m\u001b[0m\u001b[1;33m\u001b[0m\u001b[0m\n\u001b[0m\u001b[0;32m    277\u001b[0m             \u001b[0mpoint\u001b[0m \u001b[1;33m=\u001b[0m \u001b[0mself\u001b[0m\u001b[1;33m.\u001b[0m\u001b[0m_logp_dlogp_func\u001b[0m\u001b[1;33m.\u001b[0m\u001b[0marray_to_full_dict\u001b[0m\u001b[1;33m(\u001b[0m\u001b[0mapoint\u001b[0m\u001b[1;33m)\u001b[0m\u001b[1;33m\u001b[0m\u001b[1;33m\u001b[0m\u001b[0m\n\u001b[0;32m    278\u001b[0m             \u001b[1;32mreturn\u001b[0m \u001b[0mpoint\u001b[0m\u001b[1;33m,\u001b[0m \u001b[0mstats\u001b[0m\u001b[1;33m\u001b[0m\u001b[1;33m\u001b[0m\u001b[0m\n",
      "\u001b[1;32m~\\AppData\\Roaming\\Python\\Python39\\site-packages\\pymc3\\step_methods\\hmc\\base_hmc.py\u001b[0m in \u001b[0;36mastep\u001b[1;34m(self, q0)\u001b[0m\n\u001b[0;32m    145\u001b[0m                 \u001b[1;33m(\u001b[0m\u001b[0mnp\u001b[0m\u001b[1;33m.\u001b[0m\u001b[0mabs\u001b[0m\u001b[1;33m(\u001b[0m\u001b[0mcheck_test_point\u001b[0m\u001b[1;33m)\u001b[0m \u001b[1;33m>=\u001b[0m \u001b[1;36m1e20\u001b[0m\u001b[1;33m)\u001b[0m \u001b[1;33m|\u001b[0m \u001b[0mnp\u001b[0m\u001b[1;33m.\u001b[0m\u001b[0misnan\u001b[0m\u001b[1;33m(\u001b[0m\u001b[0mcheck_test_point\u001b[0m\u001b[1;33m)\u001b[0m\u001b[1;33m\u001b[0m\u001b[1;33m\u001b[0m\u001b[0m\n\u001b[0;32m    146\u001b[0m             ]\n\u001b[1;32m--> 147\u001b[1;33m             \u001b[0mself\u001b[0m\u001b[1;33m.\u001b[0m\u001b[0mpotential\u001b[0m\u001b[1;33m.\u001b[0m\u001b[0mraise_ok\u001b[0m\u001b[1;33m(\u001b[0m\u001b[0mself\u001b[0m\u001b[1;33m.\u001b[0m\u001b[0m_logp_dlogp_func\u001b[0m\u001b[1;33m.\u001b[0m\u001b[0m_ordering\u001b[0m\u001b[1;33m.\u001b[0m\u001b[0mvmap\u001b[0m\u001b[1;33m)\u001b[0m\u001b[1;33m\u001b[0m\u001b[1;33m\u001b[0m\u001b[0m\n\u001b[0m\u001b[0;32m    148\u001b[0m             message_energy = (\n\u001b[0;32m    149\u001b[0m                 \u001b[1;34m\"Bad initial energy, check any log probabilities that \"\u001b[0m\u001b[1;33m\u001b[0m\u001b[1;33m\u001b[0m\u001b[0m\n",
      "\u001b[1;32m~\\AppData\\Roaming\\Python\\Python39\\site-packages\\pymc3\\step_methods\\hmc\\quadpotential.py\u001b[0m in \u001b[0;36mraise_ok\u001b[1;34m(self, vmap)\u001b[0m\n\u001b[0;32m    266\u001b[0m                     \u001b[1;34m\"The derivative of RV `{}`.ravel()[{}] is zero.\"\u001b[0m\u001b[1;33m.\u001b[0m\u001b[0mformat\u001b[0m\u001b[1;33m(\u001b[0m\u001b[1;33m*\u001b[0m\u001b[0mname_slc\u001b[0m\u001b[1;33m[\u001b[0m\u001b[0mii\u001b[0m\u001b[1;33m]\u001b[0m\u001b[1;33m)\u001b[0m\u001b[1;33m\u001b[0m\u001b[1;33m\u001b[0m\u001b[0m\n\u001b[0;32m    267\u001b[0m                 )\n\u001b[1;32m--> 268\u001b[1;33m             \u001b[1;32mraise\u001b[0m \u001b[0mValueError\u001b[0m\u001b[1;33m(\u001b[0m\u001b[1;34m\"\\n\"\u001b[0m\u001b[1;33m.\u001b[0m\u001b[0mjoin\u001b[0m\u001b[1;33m(\u001b[0m\u001b[0merrmsg\u001b[0m\u001b[1;33m)\u001b[0m\u001b[1;33m)\u001b[0m\u001b[1;33m\u001b[0m\u001b[1;33m\u001b[0m\u001b[0m\n\u001b[0m\u001b[0;32m    269\u001b[0m \u001b[1;33m\u001b[0m\u001b[0m\n\u001b[0;32m    270\u001b[0m         \u001b[1;32mif\u001b[0m \u001b[0mnp\u001b[0m\u001b[1;33m.\u001b[0m\u001b[0many\u001b[0m\u001b[1;33m(\u001b[0m\u001b[1;33m~\u001b[0m\u001b[0mnp\u001b[0m\u001b[1;33m.\u001b[0m\u001b[0misfinite\u001b[0m\u001b[1;33m(\u001b[0m\u001b[0mself\u001b[0m\u001b[1;33m.\u001b[0m\u001b[0m_stds\u001b[0m\u001b[1;33m)\u001b[0m\u001b[1;33m)\u001b[0m\u001b[1;33m:\u001b[0m\u001b[1;33m\u001b[0m\u001b[1;33m\u001b[0m\u001b[0m\n",
      "\u001b[1;31mValueError\u001b[0m: Mass matrix contains zeros on the diagonal. \nThe derivative of RV `b0_interval__`.ravel()[0] is zero."
     ]
    }
   ],
   "source": [
    "height= df['height']\n",
    "weight = df['weight']\n",
    "waistline = df['waistline']\n",
    "\n",
    "with pm.Model() as model:\n",
    "    b0 = pm.Uniform('b0', lower=1, upper=100)\n",
    "    b1 = pm.Uniform('b1', lower=1, upper=100)\n",
    "    b2 = pm.Uniform('b2', lower=1, upper=100)\n",
    "    sigma = pm.InverseGamma('sigma', alpha=0.005, beta=0.005)\n",
    "    \n",
    "    mu = b0 + b1*height + b2*waistline\n",
    "    \n",
    "    y_obs = pm.Normal('y_obs', mu=mu, sigma=sigma, observed=weight)\n",
    "    \n",
    "    trace = pm.sample(100, tune=1000, cores=1, random_seed=1234)\n",
    "pm.summary(trace, var_names=['b0', 'b1', 'b2', 'sigma'])"
   ]
  },
  {
   "cell_type": "markdown",
   "id": "50ef4ffa",
   "metadata": {},
   "source": [
    "위 코드에서는 pm.Flat을 사용하여 회귀계수의 사전분포를 부적절한 균일분포로 지정했으며, pm.InverseGamma를 사용하여 오차항의 분산의 사전분포를 역감마 분포로 지정했습니다.\n",
    "\n",
    "pm.sample 함수를 사용하여 MCMC를 실행합니다. draws 인수는 샘플링 횟수를, tune 인수는 버닝-인(burn-in) 횟수를, chains 인수는 체인 수를 설정합니다.\n",
    "\n",
    "마지막으로, pm.traceplot 함수를 사용하여 사후분포를 시각화합니다. var_names 인수에 추정하려는 변수의 이름을 리스트 형태로 전달합니다."
   ]
  },
  {
   "cell_type": "markdown",
   "id": "e33e9177",
   "metadata": {},
   "source": [
    "**7-2** 7-1에서 만든 모델을 바탕으로 키 180cm, 허리둘레 85cm인 남성의 몸무게를 추정하라"
   ]
  }
 ],
 "metadata": {
  "kernelspec": {
   "display_name": "Python 3 (ipykernel)",
   "language": "python",
   "name": "python3"
  },
  "language_info": {
   "codemirror_mode": {
    "name": "ipython",
    "version": 3
   },
   "file_extension": ".py",
   "mimetype": "text/x-python",
   "name": "python",
   "nbconvert_exporter": "python",
   "pygments_lexer": "ipython3",
   "version": "3.9.13"
  }
 },
 "nbformat": 4,
 "nbformat_minor": 5
}
