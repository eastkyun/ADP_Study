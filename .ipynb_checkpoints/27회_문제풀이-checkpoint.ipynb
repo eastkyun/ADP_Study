{
 "cells": [
  {
   "cell_type": "markdown",
   "id": "e8bce6c7",
   "metadata": {},
   "source": [
    "**1.1** EDA 데이터 탐색\n",
    "\n",
    "**1.2** 변수간 상관관계를 시각화하고 전처리가 필요함을 설명하라"
   ]
  },
  {
   "cell_type": "code",
   "execution_count": 1,
   "id": "b86be6ca",
   "metadata": {
    "scrolled": true
   },
   "outputs": [
    {
     "data": {
      "text/html": [
       "<div>\n",
       "<style scoped>\n",
       "    .dataframe tbody tr th:only-of-type {\n",
       "        vertical-align: middle;\n",
       "    }\n",
       "\n",
       "    .dataframe tbody tr th {\n",
       "        vertical-align: top;\n",
       "    }\n",
       "\n",
       "    .dataframe thead th {\n",
       "        text-align: right;\n",
       "    }\n",
       "</style>\n",
       "<table border=\"1\" class=\"dataframe\">\n",
       "  <thead>\n",
       "    <tr style=\"text-align: right;\">\n",
       "      <th></th>\n",
       "      <th>Time</th>\n",
       "      <th>V1</th>\n",
       "      <th>V2</th>\n",
       "      <th>V3</th>\n",
       "      <th>V4</th>\n",
       "      <th>V5</th>\n",
       "      <th>V6</th>\n",
       "      <th>V7</th>\n",
       "      <th>V8</th>\n",
       "      <th>V9</th>\n",
       "      <th>V10</th>\n",
       "      <th>V11</th>\n",
       "      <th>V12</th>\n",
       "      <th>V13</th>\n",
       "      <th>V14</th>\n",
       "      <th>V15</th>\n",
       "      <th>V16</th>\n",
       "      <th>V17</th>\n",
       "      <th>Amount</th>\n",
       "      <th>Class</th>\n",
       "    </tr>\n",
       "  </thead>\n",
       "  <tbody>\n",
       "    <tr>\n",
       "      <th>0</th>\n",
       "      <td>60.0</td>\n",
       "      <td>1.069141</td>\n",
       "      <td>0.043786</td>\n",
       "      <td>0.309867</td>\n",
       "      <td>1.316694</td>\n",
       "      <td>-0.462394</td>\n",
       "      <td>-0.857888</td>\n",
       "      <td>0.207904</td>\n",
       "      <td>-0.191270</td>\n",
       "      <td>0.056398</td>\n",
       "      <td>0.041567</td>\n",
       "      <td>-0.507358</td>\n",
       "      <td>-0.108666</td>\n",
       "      <td>-0.473257</td>\n",
       "      <td>0.452046</td>\n",
       "      <td>1.005675</td>\n",
       "      <td>0.185441</td>\n",
       "      <td>-0.439976</td>\n",
       "      <td>89.40</td>\n",
       "      <td>0</td>\n",
       "    </tr>\n",
       "    <tr>\n",
       "      <th>1</th>\n",
       "      <td>406.0</td>\n",
       "      <td>-2.312227</td>\n",
       "      <td>1.951992</td>\n",
       "      <td>-1.609851</td>\n",
       "      <td>3.997906</td>\n",
       "      <td>-0.522188</td>\n",
       "      <td>-1.426545</td>\n",
       "      <td>-2.537387</td>\n",
       "      <td>1.391657</td>\n",
       "      <td>-2.770089</td>\n",
       "      <td>-2.772272</td>\n",
       "      <td>3.202033</td>\n",
       "      <td>-2.899907</td>\n",
       "      <td>-0.595222</td>\n",
       "      <td>-4.289254</td>\n",
       "      <td>0.389724</td>\n",
       "      <td>-1.140747</td>\n",
       "      <td>-2.830056</td>\n",
       "      <td>0.00</td>\n",
       "      <td>1</td>\n",
       "    </tr>\n",
       "    <tr>\n",
       "      <th>2</th>\n",
       "      <td>426.0</td>\n",
       "      <td>-1.932055</td>\n",
       "      <td>1.724618</td>\n",
       "      <td>1.288229</td>\n",
       "      <td>-0.396998</td>\n",
       "      <td>-0.140202</td>\n",
       "      <td>2.470521</td>\n",
       "      <td>-1.865298</td>\n",
       "      <td>-5.186855</td>\n",
       "      <td>0.794764</td>\n",
       "      <td>0.155379</td>\n",
       "      <td>0.034517</td>\n",
       "      <td>0.906738</td>\n",
       "      <td>-0.027172</td>\n",
       "      <td>-0.404303</td>\n",
       "      <td>-0.473949</td>\n",
       "      <td>0.274034</td>\n",
       "      <td>-0.222340</td>\n",
       "      <td>16.19</td>\n",
       "      <td>0</td>\n",
       "    </tr>\n",
       "    <tr>\n",
       "      <th>3</th>\n",
       "      <td>472.0</td>\n",
       "      <td>-3.043541</td>\n",
       "      <td>-3.157307</td>\n",
       "      <td>1.088463</td>\n",
       "      <td>2.288644</td>\n",
       "      <td>1.359805</td>\n",
       "      <td>-1.064823</td>\n",
       "      <td>0.325574</td>\n",
       "      <td>-0.067794</td>\n",
       "      <td>-0.270953</td>\n",
       "      <td>-0.838587</td>\n",
       "      <td>-0.414575</td>\n",
       "      <td>-0.503141</td>\n",
       "      <td>0.676502</td>\n",
       "      <td>-1.692029</td>\n",
       "      <td>2.000635</td>\n",
       "      <td>0.666780</td>\n",
       "      <td>0.599717</td>\n",
       "      <td>529.00</td>\n",
       "      <td>1</td>\n",
       "    </tr>\n",
       "    <tr>\n",
       "      <th>4</th>\n",
       "      <td>674.0</td>\n",
       "      <td>-0.719065</td>\n",
       "      <td>0.638954</td>\n",
       "      <td>0.686335</td>\n",
       "      <td>-0.023240</td>\n",
       "      <td>2.317890</td>\n",
       "      <td>3.871978</td>\n",
       "      <td>-0.312797</td>\n",
       "      <td>1.089780</td>\n",
       "      <td>-0.596925</td>\n",
       "      <td>-0.006142</td>\n",
       "      <td>-0.242883</td>\n",
       "      <td>-0.384491</td>\n",
       "      <td>0.109079</td>\n",
       "      <td>0.187565</td>\n",
       "      <td>1.823472</td>\n",
       "      <td>0.274346</td>\n",
       "      <td>-0.697730</td>\n",
       "      <td>22.00</td>\n",
       "      <td>0</td>\n",
       "    </tr>\n",
       "  </tbody>\n",
       "</table>\n",
       "</div>"
      ],
      "text/plain": [
       "    Time        V1        V2        V3        V4        V5        V6  \\\n",
       "0   60.0  1.069141  0.043786  0.309867  1.316694 -0.462394 -0.857888   \n",
       "1  406.0 -2.312227  1.951992 -1.609851  3.997906 -0.522188 -1.426545   \n",
       "2  426.0 -1.932055  1.724618  1.288229 -0.396998 -0.140202  2.470521   \n",
       "3  472.0 -3.043541 -3.157307  1.088463  2.288644  1.359805 -1.064823   \n",
       "4  674.0 -0.719065  0.638954  0.686335 -0.023240  2.317890  3.871978   \n",
       "\n",
       "         V7        V8        V9       V10       V11       V12       V13  \\\n",
       "0  0.207904 -0.191270  0.056398  0.041567 -0.507358 -0.108666 -0.473257   \n",
       "1 -2.537387  1.391657 -2.770089 -2.772272  3.202033 -2.899907 -0.595222   \n",
       "2 -1.865298 -5.186855  0.794764  0.155379  0.034517  0.906738 -0.027172   \n",
       "3  0.325574 -0.067794 -0.270953 -0.838587 -0.414575 -0.503141  0.676502   \n",
       "4 -0.312797  1.089780 -0.596925 -0.006142 -0.242883 -0.384491  0.109079   \n",
       "\n",
       "        V14       V15       V16       V17  Amount  Class  \n",
       "0  0.452046  1.005675  0.185441 -0.439976   89.40      0  \n",
       "1 -4.289254  0.389724 -1.140747 -2.830056    0.00      1  \n",
       "2 -0.404303 -0.473949  0.274034 -0.222340   16.19      0  \n",
       "3 -1.692029  2.000635  0.666780  0.599717  529.00      1  \n",
       "4  0.187565  1.823472  0.274346 -0.697730   22.00      0  "
      ]
     },
     "execution_count": 1,
     "metadata": {},
     "output_type": "execute_result"
    }
   ],
   "source": [
    "import pandas as pd\n",
    "\n",
    "df= pd.read_csv('https://raw.githubusercontent.com/Datamanim/datarepo/main/adp/27/problem1.csv')\n",
    "df.head()"
   ]
  },
  {
   "cell_type": "code",
   "execution_count": 2,
   "id": "dcbd2ae0",
   "metadata": {
    "scrolled": true
   },
   "outputs": [
    {
     "data": {
      "text/html": [
       "<div>\n",
       "<style scoped>\n",
       "    .dataframe tbody tr th:only-of-type {\n",
       "        vertical-align: middle;\n",
       "    }\n",
       "\n",
       "    .dataframe tbody tr th {\n",
       "        vertical-align: top;\n",
       "    }\n",
       "\n",
       "    .dataframe thead th {\n",
       "        text-align: right;\n",
       "    }\n",
       "</style>\n",
       "<table border=\"1\" class=\"dataframe\">\n",
       "  <thead>\n",
       "    <tr style=\"text-align: right;\">\n",
       "      <th></th>\n",
       "      <th>Time</th>\n",
       "      <th>V1</th>\n",
       "      <th>V2</th>\n",
       "      <th>V3</th>\n",
       "      <th>V4</th>\n",
       "      <th>V5</th>\n",
       "      <th>V6</th>\n",
       "      <th>V7</th>\n",
       "      <th>V8</th>\n",
       "      <th>V9</th>\n",
       "      <th>V10</th>\n",
       "      <th>V11</th>\n",
       "      <th>V12</th>\n",
       "      <th>V13</th>\n",
       "      <th>V14</th>\n",
       "      <th>V15</th>\n",
       "      <th>V16</th>\n",
       "      <th>V17</th>\n",
       "      <th>Amount</th>\n",
       "      <th>Class</th>\n",
       "    </tr>\n",
       "  </thead>\n",
       "  <tbody>\n",
       "    <tr>\n",
       "      <th>count</th>\n",
       "      <td>1193.000000</td>\n",
       "      <td>1193.000000</td>\n",
       "      <td>1193.000000</td>\n",
       "      <td>1193.000000</td>\n",
       "      <td>1193.000000</td>\n",
       "      <td>1193.000000</td>\n",
       "      <td>1193.000000</td>\n",
       "      <td>1193.000000</td>\n",
       "      <td>1193.000000</td>\n",
       "      <td>1193.000000</td>\n",
       "      <td>1193.000000</td>\n",
       "      <td>1193.000000</td>\n",
       "      <td>1193.000000</td>\n",
       "      <td>1193.000000</td>\n",
       "      <td>1193.000000</td>\n",
       "      <td>1193.000000</td>\n",
       "      <td>1193.000000</td>\n",
       "      <td>1193.000000</td>\n",
       "      <td>1193.00000</td>\n",
       "      <td>1193.000000</td>\n",
       "    </tr>\n",
       "    <tr>\n",
       "      <th>mean</th>\n",
       "      <td>91514.485331</td>\n",
       "      <td>-0.755027</td>\n",
       "      <td>0.543730</td>\n",
       "      <td>-1.148224</td>\n",
       "      <td>0.777816</td>\n",
       "      <td>-0.409181</td>\n",
       "      <td>-0.283953</td>\n",
       "      <td>-0.852545</td>\n",
       "      <td>0.145026</td>\n",
       "      <td>-0.446390</td>\n",
       "      <td>-0.904275</td>\n",
       "      <td>0.656342</td>\n",
       "      <td>-1.014185</td>\n",
       "      <td>0.011973</td>\n",
       "      <td>-1.168346</td>\n",
       "      <td>0.019232</td>\n",
       "      <td>-0.629529</td>\n",
       "      <td>-1.070657</td>\n",
       "      <td>88.88570</td>\n",
       "      <td>0.167645</td>\n",
       "    </tr>\n",
       "    <tr>\n",
       "      <th>std</th>\n",
       "      <td>47896.081947</td>\n",
       "      <td>3.622262</td>\n",
       "      <td>2.663928</td>\n",
       "      <td>3.908787</td>\n",
       "      <td>2.345566</td>\n",
       "      <td>2.702077</td>\n",
       "      <td>1.507579</td>\n",
       "      <td>3.396565</td>\n",
       "      <td>2.471559</td>\n",
       "      <td>1.664075</td>\n",
       "      <td>2.902608</td>\n",
       "      <td>1.957200</td>\n",
       "      <td>2.996734</td>\n",
       "      <td>1.013383</td>\n",
       "      <td>3.230613</td>\n",
       "      <td>0.908008</td>\n",
       "      <td>2.269400</td>\n",
       "      <td>3.812768</td>\n",
       "      <td>220.14133</td>\n",
       "      <td>0.373707</td>\n",
       "    </tr>\n",
       "    <tr>\n",
       "      <th>min</th>\n",
       "      <td>60.000000</td>\n",
       "      <td>-30.552380</td>\n",
       "      <td>-33.644637</td>\n",
       "      <td>-31.103685</td>\n",
       "      <td>-4.294888</td>\n",
       "      <td>-22.105532</td>\n",
       "      <td>-10.886820</td>\n",
       "      <td>-37.060311</td>\n",
       "      <td>-37.353443</td>\n",
       "      <td>-11.126624</td>\n",
       "      <td>-23.228255</td>\n",
       "      <td>-2.651584</td>\n",
       "      <td>-17.228662</td>\n",
       "      <td>-2.800154</td>\n",
       "      <td>-18.493773</td>\n",
       "      <td>-4.498945</td>\n",
       "      <td>-14.129855</td>\n",
       "      <td>-25.162799</td>\n",
       "      <td>0.00000</td>\n",
       "      <td>0.000000</td>\n",
       "    </tr>\n",
       "    <tr>\n",
       "      <th>25%</th>\n",
       "      <td>50265.000000</td>\n",
       "      <td>-1.302600</td>\n",
       "      <td>-0.435358</td>\n",
       "      <td>-1.609339</td>\n",
       "      <td>-0.610310</td>\n",
       "      <td>-0.842184</td>\n",
       "      <td>-1.017863</td>\n",
       "      <td>-0.806043</td>\n",
       "      <td>-0.219328</td>\n",
       "      <td>-1.039740</td>\n",
       "      <td>-0.883807</td>\n",
       "      <td>-0.601391</td>\n",
       "      <td>-0.967306</td>\n",
       "      <td>-0.692559</td>\n",
       "      <td>-0.950226</td>\n",
       "      <td>-0.549590</td>\n",
       "      <td>-0.701499</td>\n",
       "      <td>-0.682272</td>\n",
       "      <td>3.54000</td>\n",
       "      <td>0.000000</td>\n",
       "    </tr>\n",
       "    <tr>\n",
       "      <th>50%</th>\n",
       "      <td>81797.000000</td>\n",
       "      <td>-0.302521</td>\n",
       "      <td>0.231973</td>\n",
       "      <td>-0.234204</td>\n",
       "      <td>0.327567</td>\n",
       "      <td>-0.073622</td>\n",
       "      <td>-0.379633</td>\n",
       "      <td>-0.084983</td>\n",
       "      <td>0.073036</td>\n",
       "      <td>-0.210455</td>\n",
       "      <td>-0.226471</td>\n",
       "      <td>0.283080</td>\n",
       "      <td>-0.014046</td>\n",
       "      <td>0.023014</td>\n",
       "      <td>-0.099055</td>\n",
       "      <td>0.046894</td>\n",
       "      <td>-0.055831</td>\n",
       "      <td>-0.152578</td>\n",
       "      <td>20.99000</td>\n",
       "      <td>0.000000</td>\n",
       "    </tr>\n",
       "    <tr>\n",
       "      <th>75%</th>\n",
       "      <td>136995.000000</td>\n",
       "      <td>1.249960</td>\n",
       "      <td>1.112040</td>\n",
       "      <td>0.811507</td>\n",
       "      <td>1.335332</td>\n",
       "      <td>0.684224</td>\n",
       "      <td>0.302350</td>\n",
       "      <td>0.464553</td>\n",
       "      <td>0.454794</td>\n",
       "      <td>0.452561</td>\n",
       "      <td>0.287274</td>\n",
       "      <td>1.212163</td>\n",
       "      <td>0.512121</td>\n",
       "      <td>0.699744</td>\n",
       "      <td>0.419194</td>\n",
       "      <td>0.660619</td>\n",
       "      <td>0.458139</td>\n",
       "      <td>0.368286</td>\n",
       "      <td>77.49000</td>\n",
       "      <td>0.000000</td>\n",
       "    </tr>\n",
       "    <tr>\n",
       "      <th>max</th>\n",
       "      <td>172676.000000</td>\n",
       "      <td>2.320621</td>\n",
       "      <td>19.167239</td>\n",
       "      <td>3.324665</td>\n",
       "      <td>12.114672</td>\n",
       "      <td>15.275762</td>\n",
       "      <td>6.268481</td>\n",
       "      <td>8.123589</td>\n",
       "      <td>20.007208</td>\n",
       "      <td>5.916809</td>\n",
       "      <td>7.135948</td>\n",
       "      <td>11.669205</td>\n",
       "      <td>3.106650</td>\n",
       "      <td>3.068228</td>\n",
       "      <td>3.886382</td>\n",
       "      <td>2.869424</td>\n",
       "      <td>3.139656</td>\n",
       "      <td>6.739384</td>\n",
       "      <td>3335.73000</td>\n",
       "      <td>1.000000</td>\n",
       "    </tr>\n",
       "  </tbody>\n",
       "</table>\n",
       "</div>"
      ],
      "text/plain": [
       "                Time           V1           V2           V3           V4  \\\n",
       "count    1193.000000  1193.000000  1193.000000  1193.000000  1193.000000   \n",
       "mean    91514.485331    -0.755027     0.543730    -1.148224     0.777816   \n",
       "std     47896.081947     3.622262     2.663928     3.908787     2.345566   \n",
       "min        60.000000   -30.552380   -33.644637   -31.103685    -4.294888   \n",
       "25%     50265.000000    -1.302600    -0.435358    -1.609339    -0.610310   \n",
       "50%     81797.000000    -0.302521     0.231973    -0.234204     0.327567   \n",
       "75%    136995.000000     1.249960     1.112040     0.811507     1.335332   \n",
       "max    172676.000000     2.320621    19.167239     3.324665    12.114672   \n",
       "\n",
       "                V5           V6           V7           V8           V9  \\\n",
       "count  1193.000000  1193.000000  1193.000000  1193.000000  1193.000000   \n",
       "mean     -0.409181    -0.283953    -0.852545     0.145026    -0.446390   \n",
       "std       2.702077     1.507579     3.396565     2.471559     1.664075   \n",
       "min     -22.105532   -10.886820   -37.060311   -37.353443   -11.126624   \n",
       "25%      -0.842184    -1.017863    -0.806043    -0.219328    -1.039740   \n",
       "50%      -0.073622    -0.379633    -0.084983     0.073036    -0.210455   \n",
       "75%       0.684224     0.302350     0.464553     0.454794     0.452561   \n",
       "max      15.275762     6.268481     8.123589    20.007208     5.916809   \n",
       "\n",
       "               V10          V11          V12          V13          V14  \\\n",
       "count  1193.000000  1193.000000  1193.000000  1193.000000  1193.000000   \n",
       "mean     -0.904275     0.656342    -1.014185     0.011973    -1.168346   \n",
       "std       2.902608     1.957200     2.996734     1.013383     3.230613   \n",
       "min     -23.228255    -2.651584   -17.228662    -2.800154   -18.493773   \n",
       "25%      -0.883807    -0.601391    -0.967306    -0.692559    -0.950226   \n",
       "50%      -0.226471     0.283080    -0.014046     0.023014    -0.099055   \n",
       "75%       0.287274     1.212163     0.512121     0.699744     0.419194   \n",
       "max       7.135948    11.669205     3.106650     3.068228     3.886382   \n",
       "\n",
       "               V15          V16          V17      Amount        Class  \n",
       "count  1193.000000  1193.000000  1193.000000  1193.00000  1193.000000  \n",
       "mean      0.019232    -0.629529    -1.070657    88.88570     0.167645  \n",
       "std       0.908008     2.269400     3.812768   220.14133     0.373707  \n",
       "min      -4.498945   -14.129855   -25.162799     0.00000     0.000000  \n",
       "25%      -0.549590    -0.701499    -0.682272     3.54000     0.000000  \n",
       "50%       0.046894    -0.055831    -0.152578    20.99000     0.000000  \n",
       "75%       0.660619     0.458139     0.368286    77.49000     0.000000  \n",
       "max       2.869424     3.139656     6.739384  3335.73000     1.000000  "
      ]
     },
     "execution_count": 2,
     "metadata": {},
     "output_type": "execute_result"
    }
   ],
   "source": [
    "df.describe()"
   ]
  },
  {
   "cell_type": "code",
   "execution_count": 3,
   "id": "0f6713ae",
   "metadata": {},
   "outputs": [
    {
     "data": {
      "text/plain": [
       "0    993\n",
       "1    200\n",
       "Name: Class, dtype: int64"
      ]
     },
     "execution_count": 3,
     "metadata": {},
     "output_type": "execute_result"
    }
   ],
   "source": [
    "df['Class'].value_counts()"
   ]
  },
  {
   "cell_type": "code",
   "execution_count": 11,
   "id": "2aed6bfd",
   "metadata": {},
   "outputs": [
    {
     "name": "stderr",
     "output_type": "stream",
     "text": [
      "C:\\Users\\kang\\AppData\\Local\\Temp\\ipykernel_1440\\367200841.py:10: DeprecationWarning: `np.bool` is a deprecated alias for the builtin `bool`. To silence this warning, use `bool` by itself. Doing this will not modify any behavior and is safe. If you specifically wanted the numpy scalar type, use `np.bool_` here.\n",
      "Deprecated in NumPy 1.20; for more details and guidance: https://numpy.org/devdocs/release/1.20.0-notes.html#deprecations\n",
      "  mask = np.zeros_like(df_corr, dtype=np.bool)\n"
     ]
    },
    {
     "data": {
      "image/png": "[encoded data removed]",
      "text/plain": [
       "<Figure size 1700x700 with 2 Axes>"
      ]
     },
     "metadata": {},
     "output_type": "display_data"
    }
   ],
   "source": [
    "import matplotlib.pyplot as plt\n",
    "import seaborn as sns\n",
    "import numpy as np\n",
    "\n",
    "df_corr = df.corr()\n",
    "# 그림 사이즈 지정\n",
    "fig, ax = plt.subplots( figsize=(17,7) )\n",
    "\n",
    "# 삼각형 마스크를 만든다(위 쪽 삼각형에 True, 아래 삼각형에 False)\n",
    "mask = np.zeros_like(df_corr, dtype=np.bool)\n",
    "mask[np.triu_indices_from(mask)] = True\n",
    "\n",
    "# 히트맵을 그린다\n",
    "sns.heatmap(df_corr, \n",
    "            cmap = 'RdYlBu_r', \n",
    "            annot = True,   # 실제 값을 표시한다\n",
    "            mask=mask,      # 표시하지 않을 마스크 부분을 지정한다\n",
    "            linewidths=.5,  # 경계면 실선으로 구분하기\n",
    "            cbar_kws={\"shrink\": .5},# 컬러바 크기 절반으로 줄이기\n",
    "            vmin = -1,vmax = 1   # 컬러바 범위 -1 ~ 1\n",
    "           )  \n",
    "plt.show()"
   ]
  },
  {
   "cell_type": "markdown",
   "id": "5d489bb8",
   "metadata": {},
   "source": [
    "**1-1** EDA 데이터 탐색  \n",
    "* Class의 분포가 불균형을 이루고 있음 -> 예측 성능 최적화를 위해 샘플링 요구됨  \n",
    "* Time은 시간으로 증가하는 패턴을 보이며 이는 시계열 데이터라고 판단 가능  \n",
    "* 모든 컬럼에 대하여 결측지는 존재하지 않음  \n",
    "* 이상치 파악 ( 추가)  "
   ]
  },
  {
   "cell_type": "markdown",
   "id": "24f21316",
   "metadata": {},
   "source": [
    "**1-2** 변수간 상관관계를 시각화하고 전처리가 필요성 \n",
    "* 독립변수 `Time`, `V1`~`V17`, `Amount`와 종속변수인 `class`와의 상관관계를 시각과 하였다.  \n",
    "* `V1`, `V3`, `V5`, `V6`, `V7`, `V9`, `V10`, `V12`, `V14`, `V16`, `V17` 은 `class`와 음의 상관관계를 갖고, `V2`, `V4`, `V8`, `V11`, `V13`, `V15`, `Amount`는 `class`와 양의 상관관계를 갖는다.  \n",
    "* 즉, 음의 상관관계를 갖는 변수들은 값이 높을 수록 정상(0) 일 가능성이 높고, 양의 상관관계를 갖는 변수들은 값이 높을수록 비정상(1)일 가능성이 높다고 볼 수 있다.\n",
    "* 분석하고, 모델에 적용함에 있어 데이터 컬럼수가 많은편으로 주성분 분석을 통해 독립변수를 축소할 필요가 있다.\n",
    "* 종속변수의 분포가 불균형을 이루기 때문에 샘플링 해야할 필요가 있다."
   ]
  },
  {
   "cell_type": "markdown",
   "id": "775b0938",
   "metadata": {},
   "source": [
    "**2.1** 차원축소 방법 2가지 이상 비교하고 한가지 선택\n",
    "\n",
    "https://techblog-history-younghunjo1.tistory.com/66\n",
    "\n",
    "https://jeong-devlog.tistory.com/entry/%EB%A8%B8%EC%8B%A0%EB%9F%AC%EB%8B%9D-%ED%95%B5%EC%8B%AC-%EC%9A%94%EC%95%BD-5-EVD-SVD-PCA-LDA"
   ]
  },
  {
   "cell_type": "markdown",
   "id": "b49e7c5e",
   "metadata": {},
   "source": [
    "LDA(Linear Discriminant Analysis)  \n",
    "장점  \n",
    "* 설명변수간의 공분산 구조를 반영\n",
    "* 가정이 위반되더라도 어느정도 robust (변화에 민감하지 않다).  \n",
    "\n",
    "단점  \n",
    "* 가장 작은 그룹의 샘플 수가 설명변수의 개수보다 많아야 함.\n",
    "* 정규분포 가정에 크게 벗어난다면, 잘 설명하지 못한다.\n",
    "* 공분산 구조가 서로 다른 경우를 반영하지 못한다.  \n",
    "\n",
    "LDA는 주로 분류 문제에서 사용되며, 클래스 간 분산과 클래스 내 분산의 비율을 최대화하여 최적의 판별 경계를 찾습니다. 데이터의 차원을 축소할 수 있으며, 이를 사용하면 클래스 간 차이를 쉽게 파악할 수 있습니다. LDA는 PCA와 비슷하지만, 클래스 간 분산과 클래스 내 분산을 고려하므로, 분류 문제에서는 LDA가 더 적합합니다.  "
   ]
  },
  {
   "cell_type": "markdown",
   "id": "6ee42766",
   "metadata": {},
   "source": [
    "PCA(Principal Component Analysis)   \n",
    "장점  \n",
    "* 데이터 분석에 대한 특별한 목적이 없는 경우에 합리적\n",
    "* 고차원의 데이터를 손실을 최소화하여 효율적으로 축소가능\n",
    "\n",
    "단점  \n",
    "* CA는 비교사 학습임 (교사학습이 목적인 경우에, 분류의 핵심정보 손실 초래)\n",
    "* 선형변환의 한계를 가짐 (비선형구조를 반영못함) \n",
    "\n",
    "PCA는 머신러닝 및 데이터 분석 분야에서 가장 널리 사용되는 차원 축소 기법 중 하나이며, 선형 대수의 기본 개념이므로 이해하기 쉽습니다. PCA를 사용하면 높은 차원의 데이터를 저차원으로 변환하고, 데이터의 주요한 패턴을 파악할 수 있으므로 데이터 분석 및 시각화에 유용합니다.  "
   ]
  },
  {
   "cell_type": "markdown",
   "id": "b3290b19",
   "metadata": {},
   "source": [
    "SVD(Singular Value Decomposition)  \n",
    "장점  \n",
    "* 데이터의 손실이 적습니다.  \n",
    "* 높은 차원의 데이터를 저차원으로 변환할 수 있습니다.  \n",
    "* 선형 대수의 기본 개념이므로 이해하기 쉽습니다.  \n",
    "\n",
    "단점  \n",
    "* 계산 비용이 높습니다.  \n",
    "* 대규모 데이터에 대해 적용하기 어렵습니다.  "
   ]
  },
  {
   "cell_type": "markdown",
   "id": "8a57333c",
   "metadata": {},
   "source": [
    "**2.2** 추천한 한 가지를 실제로 수행하고 선택한 이유 설명"
   ]
  },
  {
   "cell_type": "markdown",
   "id": "8047a6c5",
   "metadata": {},
   "source": [
    "LDA 보다 PCA를 통해 차원을 축소하는 것을 추천한다. \n",
    "왜냐하면 19개의 독립변수를 SVD는 하나의 피처로 축소하는데, 이는 많은 데이터 소실이 발생할 가능성이 높다.\n"
   ]
  },
  {
   "cell_type": "markdown",
   "id": "516df519",
   "metadata": {},
   "source": [
    "~~PCA, LDA, SVD 구현해보기~~"
   ]
  },
  {
   "cell_type": "code",
   "execution_count": 12,
   "id": "6c878a07",
   "metadata": {},
   "outputs": [],
   "source": [
    "import numpy as np\n",
    "\n",
    "X = df.iloc[:, :-1]\n",
    "y = np.array(df.Class)"
   ]
  },
  {
   "cell_type": "code",
   "execution_count": 13,
   "id": "e4f57e9d",
   "metadata": {},
   "outputs": [
    {
     "name": "stdout",
     "output_type": "stream",
     "text": [
      "[[-0.56654217]\n",
      " [ 2.04791313]\n",
      " [-0.36529673]\n",
      " [ 0.73786026]\n",
      " [-0.81154535]]\n"
     ]
    }
   ],
   "source": [
    "from sklearn.discriminant_analysis import LinearDiscriminantAnalysis\n",
    "\n",
    "lda = LinearDiscriminantAnalysis()\n",
    "\n",
    "X_lda = lda.fit_transform(X, np.array(y))\n",
    "\n",
    "print(X_lda[:5])\n"
   ]
  },
  {
   "cell_type": "code",
   "execution_count": 14,
   "id": "fb295dc7",
   "metadata": {},
   "outputs": [
    {
     "data": {
      "text/html": [
       "<div>\n",
       "<style scoped>\n",
       "    .dataframe tbody tr th:only-of-type {\n",
       "        vertical-align: middle;\n",
       "    }\n",
       "\n",
       "    .dataframe tbody tr th {\n",
       "        vertical-align: top;\n",
       "    }\n",
       "\n",
       "    .dataframe thead th {\n",
       "        text-align: right;\n",
       "    }\n",
       "</style>\n",
       "<table border=\"1\" class=\"dataframe\">\n",
       "  <thead>\n",
       "    <tr style=\"text-align: right;\">\n",
       "      <th></th>\n",
       "      <th>X_lda</th>\n",
       "    </tr>\n",
       "  </thead>\n",
       "  <tbody>\n",
       "    <tr>\n",
       "      <th>0</th>\n",
       "      <td>-0.566542</td>\n",
       "    </tr>\n",
       "    <tr>\n",
       "      <th>1</th>\n",
       "      <td>2.047913</td>\n",
       "    </tr>\n",
       "    <tr>\n",
       "      <th>2</th>\n",
       "      <td>-0.365297</td>\n",
       "    </tr>\n",
       "    <tr>\n",
       "      <th>3</th>\n",
       "      <td>0.737860</td>\n",
       "    </tr>\n",
       "    <tr>\n",
       "      <th>4</th>\n",
       "      <td>-0.811545</td>\n",
       "    </tr>\n",
       "    <tr>\n",
       "      <th>...</th>\n",
       "      <td>...</td>\n",
       "    </tr>\n",
       "    <tr>\n",
       "      <th>1188</th>\n",
       "      <td>-0.820207</td>\n",
       "    </tr>\n",
       "    <tr>\n",
       "      <th>1189</th>\n",
       "      <td>-1.005096</td>\n",
       "    </tr>\n",
       "    <tr>\n",
       "      <th>1190</th>\n",
       "      <td>-0.934330</td>\n",
       "    </tr>\n",
       "    <tr>\n",
       "      <th>1191</th>\n",
       "      <td>-1.140915</td>\n",
       "    </tr>\n",
       "    <tr>\n",
       "      <th>1192</th>\n",
       "      <td>-0.833426</td>\n",
       "    </tr>\n",
       "  </tbody>\n",
       "</table>\n",
       "<p>1193 rows × 1 columns</p>\n",
       "</div>"
      ],
      "text/plain": [
       "         X_lda\n",
       "0    -0.566542\n",
       "1     2.047913\n",
       "2    -0.365297\n",
       "3     0.737860\n",
       "4    -0.811545\n",
       "...        ...\n",
       "1188 -0.820207\n",
       "1189 -1.005096\n",
       "1190 -0.934330\n",
       "1191 -1.140915\n",
       "1192 -0.833426\n",
       "\n",
       "[1193 rows x 1 columns]"
      ]
     },
     "execution_count": 14,
     "metadata": {},
     "output_type": "execute_result"
    }
   ],
   "source": [
    "X_lda = pd.DataFrame(X_lda)\n",
    "X_lda.columns = ['X_lda']\n",
    "X_lda"
   ]
  },
  {
   "cell_type": "code",
   "execution_count": 15,
   "id": "e19be08d",
   "metadata": {},
   "outputs": [],
   "source": [
    "def scree_plot(pca):\n",
    "    num_components = len(pca.explained_variance_ratio_)\n",
    "    ind = np.arange(num_components)\n",
    "    vals = pca.explained_variance_ratio_ \n",
    "    \n",
    "    ax = plt.subplot()\n",
    "    cumvals = np.cumsum(vals)\n",
    "    ax.bar(ind, vals) # Bar plot\n",
    "    ax.plot(ind, cumvals) # Line plot \n",
    "         \n",
    "    ax.set_xlabel(\"PC\")\n",
    "    ax.set_ylabel(\"Variance\")\n",
    "    plt.title('Scree plot')\n",
    "    \n"
   ]
  },
  {
   "cell_type": "code",
   "execution_count": 16,
   "id": "4b267343",
   "metadata": {},
   "outputs": [],
   "source": [
    "from sklearn.decomposition import PCA\n",
    "    \n",
    "# Create a PCA object\n",
    "pca = PCA(n_components=2)\n",
    "\n",
    "# Fit the PCA model to the data\n",
    "X_pca = pca.fit_transform(X)"
   ]
  },
  {
   "cell_type": "code",
   "execution_count": 17,
   "id": "4626baa2",
   "metadata": {},
   "outputs": [
    {
     "data": {
      "text/plain": [
       "array([2.29403469e+09, 4.84392195e+04])"
      ]
     },
     "execution_count": 17,
     "metadata": {},
     "output_type": "execute_result"
    }
   ],
   "source": [
    "pca.explained_variance_"
   ]
  },
  {
   "cell_type": "code",
   "execution_count": 18,
   "id": "98b7e941",
   "metadata": {},
   "outputs": [
    {
     "data": {
      "text/plain": [
       "array([9.99978833e-01, 2.11148482e-05])"
      ]
     },
     "execution_count": 18,
     "metadata": {},
     "output_type": "execute_result"
    }
   ],
   "source": [
    "pca.explained_variance_ratio_"
   ]
  },
  {
   "cell_type": "code",
   "execution_count": 19,
   "id": "42b025e5",
   "metadata": {},
   "outputs": [
    {
     "data": {
      "image/png": "[encoded data removed]",
      "text/plain": [
       "<Figure size 640x480 with 1 Axes>"
      ]
     },
     "metadata": {},
     "output_type": "display_data"
    }
   ],
   "source": [
    "scree_plot(pca)"
   ]
  },
  {
   "cell_type": "code",
   "execution_count": 20,
   "id": "c9028a54",
   "metadata": {},
   "outputs": [
    {
     "data": {
      "text/html": [
       "<div>\n",
       "<style scoped>\n",
       "    .dataframe tbody tr th:only-of-type {\n",
       "        vertical-align: middle;\n",
       "    }\n",
       "\n",
       "    .dataframe tbody tr th {\n",
       "        vertical-align: top;\n",
       "    }\n",
       "\n",
       "    .dataframe thead th {\n",
       "        text-align: right;\n",
       "    }\n",
       "</style>\n",
       "<table border=\"1\" class=\"dataframe\">\n",
       "  <thead>\n",
       "    <tr style=\"text-align: right;\">\n",
       "      <th></th>\n",
       "      <th>PCA_1</th>\n",
       "      <th>PCA_2</th>\n",
       "    </tr>\n",
       "  </thead>\n",
       "  <tbody>\n",
       "    <tr>\n",
       "      <th>0</th>\n",
       "      <td>91454.484633</td>\n",
       "      <td>9.996932</td>\n",
       "    </tr>\n",
       "    <tr>\n",
       "      <th>1</th>\n",
       "      <td>91108.494217</td>\n",
       "      <td>-79.436951</td>\n",
       "    </tr>\n",
       "    <tr>\n",
       "      <th>2</th>\n",
       "      <td>91088.492243</td>\n",
       "      <td>-63.254726</td>\n",
       "    </tr>\n",
       "    <tr>\n",
       "      <th>3</th>\n",
       "      <td>91042.439065</td>\n",
       "      <td>449.564314</td>\n",
       "    </tr>\n",
       "    <tr>\n",
       "      <th>4</th>\n",
       "      <td>90840.491643</td>\n",
       "      <td>-57.467487</td>\n",
       "    </tr>\n",
       "    <tr>\n",
       "      <th>...</th>\n",
       "      <td>...</td>\n",
       "      <td>...</td>\n",
       "    </tr>\n",
       "    <tr>\n",
       "      <th>1188</th>\n",
       "      <td>-80751.508697</td>\n",
       "      <td>-62.261865</td>\n",
       "    </tr>\n",
       "    <tr>\n",
       "      <th>1189</th>\n",
       "      <td>-80773.505562</td>\n",
       "      <td>-92.776344</td>\n",
       "    </tr>\n",
       "    <tr>\n",
       "      <th>1190</th>\n",
       "      <td>-80814.509980</td>\n",
       "      <td>-50.048225</td>\n",
       "    </tr>\n",
       "    <tr>\n",
       "      <th>1191</th>\n",
       "      <td>-81024.520489</td>\n",
       "      <td>52.727274</td>\n",
       "    </tr>\n",
       "    <tr>\n",
       "      <th>1192</th>\n",
       "      <td>-81161.505678</td>\n",
       "      <td>-91.404438</td>\n",
       "    </tr>\n",
       "  </tbody>\n",
       "</table>\n",
       "<p>1193 rows × 2 columns</p>\n",
       "</div>"
      ],
      "text/plain": [
       "             PCA_1       PCA_2\n",
       "0     91454.484633    9.996932\n",
       "1     91108.494217  -79.436951\n",
       "2     91088.492243  -63.254726\n",
       "3     91042.439065  449.564314\n",
       "4     90840.491643  -57.467487\n",
       "...            ...         ...\n",
       "1188 -80751.508697  -62.261865\n",
       "1189 -80773.505562  -92.776344\n",
       "1190 -80814.509980  -50.048225\n",
       "1191 -81024.520489   52.727274\n",
       "1192 -81161.505678  -91.404438\n",
       "\n",
       "[1193 rows x 2 columns]"
      ]
     },
     "execution_count": 20,
     "metadata": {},
     "output_type": "execute_result"
    }
   ],
   "source": [
    "X_pca = pd.DataFrame(X_pca)\n",
    "X_pca.columns = ['PCA_1', 'PCA_2']\n",
    "X_pca"
   ]
  },
  {
   "cell_type": "markdown",
   "id": "160b8c0e",
   "metadata": {},
   "source": [
    "**3.1** 오버샘플링과 언더샘플링 장단점 비교 및 선택 구현"
   ]
  },
  {
   "cell_type": "markdown",
   "id": "47d03b54",
   "metadata": {},
   "source": [
    "오버샘플링(oversampling)의 장단점  \n",
    "\n",
    "장점:  \n",
    "\n",
    "* 손쉽게 적용이 가능하고, 대부분의 머신 러닝 모델에서 성능 향상을 가져옵니다.  \n",
    "* 소수 클래스를 보다 잘 학습할 수 있게 되므로 정확도와 재현율이 향상될 수 있습니다.  \n",
    "\n",
    "단점:  \n",
    "\n",
    "* 소수 클래스를 중복해서 생성하기 때문에 과적합 문제가 발생할 수 있습니다.  \n",
    "* 생성된 데이터가 실제 데이터와 거리가 멀어질 수 있어, 일반화 성능이 감소할 수 있습니다.  \n",
    "* 생성된 데이터가 기존 데이터와 유사한 패턴을 반복할 가능성이 높아, 다양한 데이터셋에 적용하기 어려울 수 있습니다.  \n",
    "\n",
    "언더샘플링(undersampling)의 장단점  \n",
    "\n",
    "장점:  \n",
    "\n",
    "* 전체 데이터셋에서 일부 데이터만 사용하므로 속도가 빠릅니다.  \n",
    "* 소수 클래스 데이터의 비중이 높아져서 분류기가 소수 클래스를 더 잘 인식할 수 있습니다.  \n",
    "\n",
    "단점:  \n",
    "  \n",
    "* 정보의 손실이 일어날 수 있습니다.  \n",
    "* 소수 클래스 데이터가 제대로 반영되지 않을 가능성이 있습니다.  \n",
    "* 전체 데이터셋의 정보를 활용하지 않기 때문에, 전체 데이터셋의 패턴을 파악하는데 어려움이 있을 수 있습니다.  \n",
    "\n",
    "종합적으로, 오버샘플링과 언더샘플링은 각각의 장단점이 존재합니다. 따라서 데이터셋의 특성에 따라 적절한 방법을 선택하는 것이 중요합니다. 또한, 이러한 문제를 해결하기 위해 복합적인 방법들이 제안되고 있습니다. 예를 들어, SMOTE(Synthetic Minority Over-sampling Technique)는 오버샘플링을 수행하는 방법 중 하나로, 소수 클래스 데이터를 기반으로 합성 데이터를 생성하는 방법입니다. 또한, ADASYN(Adaptive Synthetic Sampling)은 SMOTE의 한계를 보완하기 위해, 소수 클래스 데이터에 대한 분포를 보다 잘 고려하는 방법입니다."
   ]
  },
  {
   "cell_type": "code",
   "execution_count": 21,
   "id": "c23d4240",
   "metadata": {},
   "outputs": [
    {
     "data": {
      "text/plain": [
       "0    993\n",
       "1    200\n",
       "Name: Class, dtype: int64"
      ]
     },
     "execution_count": 21,
     "metadata": {},
     "output_type": "execute_result"
    }
   ],
   "source": [
    "df.Class.value_counts()"
   ]
  },
  {
   "cell_type": "markdown",
   "id": "12b8bb5b",
   "metadata": {},
   "source": [
    "종속변수의 데이터 분포를 확인하면, 언더샘플링을 하면 정보의 손실이 심각하게 우려된다.  \n",
    "따라서 오버 샘플링을 통해서 데이터 증강을 해주는데, 과적합을 피하기 위하여 KNN을 적용한 SMOTE를 통하여 소수 클래스 데이터를 기반으로 합성 데이터를 생성하도록 구현할 것이다.  \n"
   ]
  },
  {
   "cell_type": "code",
   "execution_count": 22,
   "id": "674a0147",
   "metadata": {},
   "outputs": [
    {
     "name": "stdout",
     "output_type": "stream",
     "text": [
      "Resampled dataset shape Counter({0: 993, 1: 993})\n"
     ]
    }
   ],
   "source": [
    "from imblearn.over_sampling import SMOTE\n",
    "from collections import Counter\n",
    "\n",
    "\n",
    "# Apply SMOTE to the dataset\n",
    "smote = SMOTE()\n",
    "X_res, y_res = smote.fit_resample(X_pca, y)\n",
    "\n",
    "# Print the class distribution after applying SMOTE\n",
    "print('Resampled dataset shape %s' % Counter(y_res))\n"
   ]
  },
  {
   "cell_type": "markdown",
   "id": "a4d1b673",
   "metadata": {},
   "source": [
    "**3.2** (분류모델) 구현 및 알고리즘 2가지 이상 비교, 성능 측정"
   ]
  },
  {
   "cell_type": "markdown",
   "id": "996ce14e",
   "metadata": {},
   "source": [
    "의사결정 트리와 랜덤 포레스트는 모두 분류 문제를 해결하는 데 사용되는 머신러닝 알고리즘입니다. 하지만 각각의 알고리즘은 서로 다른 방식으로 작동합니다.  \n",
    "\n",
    "* 의사결정 트리 (Decision Tree)  \n",
    "\n",
    ">의사결정 트리는 데이터를 분할해 가며 노드를 만들어 나가는 트리 구조의 알고리즘입니다. 각 노드에서는 해당 노드에 속한 데이터를 가장 잘 구분할 수 있는 변수를 선택하고, 이를 기준으로 노드를 분할합니다. 이 과정을 반복하면서 트리를 구성하게 됩니다.  \n",
    "\n",
    ">* 장점  \n",
    ">해석이 용이하고, 시각적으로 표현이 가능합니다.  \n",
    ">비교적 적은 데이터로도 높은 정확도를 보여줍니다.  \n",
    "   \n",
    ">* 단점  \n",
    ">과적합(overfitting) 문제가 발생할 수 있습니다.  \n",
    ">이상치(outlier)나 잡음(noise) 데이터에 민감합니다.  \n",
    "\n",
    "* 랜덤 포레스트 (Random Forest)   \n",
    "\n",
    ">랜덤 포레스트는 의사결정 트리의 단점을 보완하기 위해 개발된 알고리즘입니다. 랜덤 포레스트는 의사결정 트리를 여러 개 모아놓은 앙상블(ensemble) 모델입니다. 각각의 트리는 전체 데이터 중 무작위로 선택된 일부 데이터를 사용해 만들어집니다.  \n",
    "\n",
    ">* 장점  \n",
    "> 과적합 문제를 완화시킬 수 있습니다.  \n",
    "> 높은 정확도를 보여줍니다.  \n",
    "   \n",
    ">* 단점  \n",
    ">의사결정 트리보다 더 복잡하고, 시간과 메모리를 많이 소비합니다.  \n",
    ">변수 선택을 자동으로 수행하므로, 해석이 어렵습니다.  \n",
    "\n",
    "따라서, 의사결정 트리는 모델 해석과 과적합 방지를 중요시하는 경우에 적합하고, 랜덤 포레스트는 높은 분류 정확도를 요구하는 경우에 적합합니다.  "
   ]
  },
  {
   "cell_type": "markdown",
   "id": "f7a02161",
   "metadata": {},
   "source": [
    "**3.3** 현재까지 전처리한 데이터를 통해 모델 수행 후 결과 분석"
   ]
  },
  {
   "cell_type": "code",
   "execution_count": 23,
   "id": "da4209fe",
   "metadata": {},
   "outputs": [],
   "source": [
    "from sklearn.model_selection import train_test_split\n",
    "# train, test 데이터 분리\n",
    "X_train, X_test, y_train, y_test = train_test_split(X_res, y_res, test_size=0.2, random_state=42)\n"
   ]
  },
  {
   "cell_type": "code",
   "execution_count": 24,
   "id": "6ea535d0",
   "metadata": {},
   "outputs": [
    {
     "name": "stdout",
     "output_type": "stream",
     "text": [
      "Accuracy: 0.7788944723618091\n",
      "[[154  50]\n",
      " [ 38 156]]\n",
      "0.77951283606226\n"
     ]
    }
   ],
   "source": [
    "from sklearn.tree import DecisionTreeClassifier\n",
    "model = DecisionTreeClassifier()\n",
    "model.fit(X_train, y_train)\n",
    "\n",
    "y_pred = model.predict(X_test)\n",
    "\n",
    "# 모델 평가\n",
    "from sklearn.metrics import accuracy_score, confusion_matrix, roc_auc_score\n",
    "accuracy = accuracy_score(y_test, y_pred)\n",
    "print(\"Accuracy:\", accuracy)\n",
    "print(confusion_matrix(y_test, y_pred))\n",
    "print(roc_auc_score(y_test, y_pred))"
   ]
  },
  {
   "cell_type": "code",
   "execution_count": 25,
   "id": "efbf9ece",
   "metadata": {},
   "outputs": [
    {
     "name": "stdout",
     "output_type": "stream",
     "text": [
      "Accuracy: 0.7864321608040201\n",
      "[[157  47]\n",
      " [ 38 156]]\n",
      "0.7868657772387306\n"
     ]
    }
   ],
   "source": [
    "from sklearn.ensemble import RandomForestClassifier\n",
    "model = RandomForestClassifier()\n",
    "model.fit(X_train, y_train)\n",
    "\n",
    "y_pred = model.predict(X_test)\n",
    "\n",
    "# 모델 평가\n",
    "from sklearn.metrics import accuracy_score, confusion_matrix, roc_auc_score\n",
    "accuracy = accuracy_score(y_test, y_pred)\n",
    "print(\"Accuracy:\", accuracy)\n",
    "print(confusion_matrix(y_test, y_pred))\n",
    "print(roc_auc_score(y_test, y_pred))"
   ]
  },
  {
   "cell_type": "markdown",
   "id": "3307732d",
   "metadata": {},
   "source": [
    "**4.1** 이상탐지 모델 2가지 이상 기술, 장/단점 설명\n",
    "\n",
    "dbscan : https://claryk.tistory.com/7"
   ]
  },
  {
   "cell_type": "markdown",
   "id": "a5e1aba2",
   "metadata": {},
   "source": [
    "DBSCAN()  \n",
    "\n",
    "장점\n",
    "* DBSCAN은 밀도 기반 클러스터링 알고리즘으로 밀도가 높은 부분을 클러스터로 묶을 수 있습니다.\n",
    "* DBSCAN은 클러스터의 모양에 구애받지 않기 때문에 비선형적인 형태의 클러스터링도 가능합니다.\n",
    "* DBSCAN은 MinPts와 eps 값에 민감하게 반응하며 이를 조절하여 다양한 데이터셋에 적용 가능합니다.\n",
    "* DBSCAN은 이상치를 noise로 분류하므로 클러스터링 결과에 이상치가 포함되지 않습니다.\n",
    " \n",
    "단점  \n",
    "* DBSCAN은 클러스터 개수를 미리 지정해야 하는 K-Means와 같은 알고리즘과 달리 클러스터 개수를 사전에 지정할 필요가 없습니다. 하지만, 데이터셋이 복잡한 경우에는 eps와 MinPts 값을 적절히 조절하기 어려울 수 있습니다.\n",
    "* DBSCAN은 높은 차원의 데이터셋에 적용하기 어려울 수 있습니다. 높은 차원에서는 밀도 기반 알고리즘이 잘 작동하지 않기 때문입니다.\n",
    "* DBSCAN은 eps값에 따라 결과가 크게 달라지기 때문에 eps 값을 적절하게 설정하는 것이 중요합니다.\n",
    "\n",
    "종합적으로, DBSCAN은 밀도 기반 이상치 탐지 알고리즘이며, 클러스터링과 이상치 탐지 둘 다 가능합니다. 그러나 eps와 MinPts 값 조절이 중요하기 때문에, 사용할 데이터셋의 특성에 따라 적절하게 설정해야 합니다. 또한, 높은 차원에서는 성능이 좋지 않을 수 있습니다."
   ]
  },
  {
   "cell_type": "markdown",
   "id": "8df5dc91",
   "metadata": {},
   "source": [
    "LOF(Local Outlier Factor)  \n",
    "\n",
    "장점\n",
    "* LOF는 데이터 분포가 복잡한 경우에도 잘 작동합니다.\n",
    "* LOF는 이상치의 밀도와 분포를 고려하여 이상치를 탐지합니다.\n",
    "* LOF는 k-NN(k-Nearest Neighbors) 알고리즘을 사용하기 때문에 데이터셋의 크기에 영향을 덜 받습니다.\n",
    "\n",
    "단점\n",
    "* LOF는 이상치의 밀도와 분포를 고려하기 때문에, 이상치가 매우 적은 경우에는 탐지하기 어렵습니다.\n",
    "* LOF는 k-NN 알고리즘을 사용하기 때문에, k값의 선택에 민감합니다. k값이 작으면 이상치로 판별하기 쉽고, k값이 크면 이상치로 판별하기 어렵습니다.\n",
    "* LOF는 데이터셋의 차원이 증가할수록 정확도가 떨어집니다.\n",
    "\n",
    "\n",
    "Isolation Forest  \n",
    "\n",
    "장점\n",
    "* Isolation Forest는 데이터셋의 차원에 무관하게 높은 정확도를 보장합니다.\n",
    "* Isolation Forest는 이상치가 적을 때도 효과적으로 탐지할 수 있습니다.\n",
    "* Isolation Forest는 빠른 속도로 이상치를 탐지할 수 있습니다.\n",
    "\n",
    "단점\n",
    "* Isolation Forest는 트리의 깊이와 생성되는 트리의 개수에 따라 성능이 크게 달라질 수 있습니다.\n",
    "* Isolation Forest는 데이터가 균일하게 분포되어 있을 때, 이상치 탐지 정확도가 낮아질 수 있습니다.\n",
    "* Isolation Forest는 특정 형태의 이상치를 잘 탐지하지 못할 수 있습니다.\n",
    "\n",
    "종합적으로, LOF와 Isolation Forest는 각각의 특징과 장단점이 있기 때문에 데이터셋의 특성에 따라 적절한 이상치 탐지 알고리즘을 선택하는 것이 중요합니다."
   ]
  },
  {
   "cell_type": "markdown",
   "id": "683508ba",
   "metadata": {},
   "source": [
    "**4.2** 2번에서 만든 데이터로 한 가지 이상탐지 모델을 구현하고, 3번에서 만든 모델과 비교"
   ]
  },
  {
   "cell_type": "code",
   "execution_count": 26,
   "id": "ff54b4b0",
   "metadata": {},
   "outputs": [
    {
     "name": "stdout",
     "output_type": "stream",
     "text": [
      "[-1.00516961 -1.00983484 -0.99734851 ... -0.88675079 -1.0158926\n",
      " -1.04483611]\n"
     ]
    }
   ],
   "source": [
    "from sklearn.neighbors import LocalOutlierFactor\n",
    "\n",
    "# LOF 모델 생성\n",
    "lof = LocalOutlierFactor(n_neighbors=4)\n",
    "# X_res, y_res \n",
    "# 모델 학습 및 예측\n",
    "y_pred = lof.fit_predict(X_res)\n",
    "\n",
    "# 이상치 점수 출력\n",
    "lof_scores = lof.negative_outlier_factor_\n",
    "print(lof_scores)\n"
   ]
  },
  {
   "cell_type": "code",
   "execution_count": 27,
   "id": "0798f6c7",
   "metadata": {},
   "outputs": [
    {
     "data": {
      "image/png": "[encoded data removed]",
      "text/plain": [
       "<Figure size 640x480 with 1 Axes>"
      ]
     },
     "metadata": {},
     "output_type": "display_data"
    }
   ],
   "source": [
    "n_errors = (y_pred != y_res).sum()\n",
    "X_scores = lof.negative_outlier_factor_\n",
    "\n",
    "plt.title(\"Local Outlier Factor (LOF)\")\n",
    "plt.scatter(X_res.iloc[:, 0], X_res.iloc[:, 1], color='k', s=3., label='Data points')\n",
    "# 이상치 점수에 비례하는 반경으로 원을 플로팅합니다.\n",
    "radius = (X_scores.max() - X_scores) / (X_scores.max() - X_scores.min())\n",
    "plt.scatter(X_res.iloc[:, 0], X_res.iloc[:, 1], s=1000 * radius, edgecolors='r',\n",
    "            facecolors='none', label='Outlier scores')\n",
    "plt.axis('tight')\n",
    "plt.xlim((-5000, 107000))\n",
    "plt.ylim((-500, 1000))\n",
    "plt.xlabel(\"prediction errors: %d\" % (n_errors))\n",
    "legend = plt.legend(loc='upper left')\n",
    "legend.legendHandles[0]._sizes = [10]\n",
    "legend.legendHandles[1]._sizes = [20]\n",
    "plt.show()"
   ]
  },
  {
   "cell_type": "markdown",
   "id": "c69bf1d2",
   "metadata": {},
   "source": [
    "negative_outlier_factor_ 속성을 이용하여 각 데이터 포인트의 이상치 점수를 출력할 수 있습니다. 음수 값이 높을수록 해당 데이터 포인트가 이상치일 가능성이 높습니다."
   ]
  },
  {
   "cell_type": "code",
   "execution_count": 28,
   "id": "f736f7d1",
   "metadata": {
    "scrolled": true
   },
   "outputs": [
    {
     "name": "stdout",
     "output_type": "stream",
     "text": [
      "클러스터 개수: 83\n",
      "-1     1082\n",
      " 12      56\n",
      " 69      38\n",
      " 7       32\n",
      " 36      25\n",
      "       ... \n",
      " 49       5\n",
      " 11       5\n",
      " 18       5\n",
      " 82       5\n",
      " 62       4\n",
      "Length: 84, dtype: int64\n"
     ]
    }
   ],
   "source": [
    "from sklearn.cluster import DBSCAN\n",
    "import numpy as np\n",
    "\n",
    "\n",
    "# DBSCAN 모델 생성\n",
    "dbscan = DBSCAN(eps=130, min_samples=5)\n",
    "\n",
    "# 모델 학습 및 예측\n",
    "y_pred = dbscan.fit_predict(X_res)\n",
    "\n",
    "# 클러스터 개수 출력\n",
    "n_clusters = len(set(y_pred)) - (1 if -1 in y_pred else 0)\n",
    "print(\"클러스터 개수:\", n_clusters)\n",
    "\n",
    "print(pd.DataFrame(y_pred).value_counts())"
   ]
  },
  {
   "cell_type": "code",
   "execution_count": 29,
   "id": "79c85c2a",
   "metadata": {},
   "outputs": [
    {
     "data": {
      "text/plain": [
       "0    689\n",
       "1    393\n",
       "Name: 0, dtype: int64"
      ]
     },
     "execution_count": 29,
     "metadata": {},
     "output_type": "execute_result"
    }
   ],
   "source": [
    "q = pd.DataFrame([y_res, y_pred]).T\n",
    "q[q[1].map(lambda x : x==-1)][0].value_counts()"
   ]
  },
  {
   "cell_type": "markdown",
   "id": "36d56b91",
   "metadata": {},
   "source": [
    "-1 레이블을 가진 포인트를 이상치 포인트로 간주하고, 해당 포인트들을 출력합니다."
   ]
  },
  {
   "cell_type": "markdown",
   "id": "a95c0d4c",
   "metadata": {},
   "source": [
    "**4.3** 데이터분석가 관점에서 3번에서 만든 모델과 4번에서 만든 모델 설명"
   ]
  },
  {
   "cell_type": "markdown",
   "id": "86846590",
   "metadata": {},
   "source": [
    "3번은 지도학습 기반 이상 거래 탐지 모델이고\n",
    "4번은 비지도 학습 기반 이상 거래 탐지 모델이다.\n",
    "\n",
    "성능을 보면 지도학습 기반 이상 거래 탐지 모델이 월등히 높아서\n",
    "\n",
    "현업에 적용시 3번 모델을 추천할 것입니다."
   ]
  },
  {
   "cell_type": "markdown",
   "id": "b0e32b83",
   "metadata": {},
   "source": [
    "<b>5</b>\n",
    "2년 전 제품 생산량이 100,000개, 1년 전 제품 생산량이 150,000개, 그 후 팩토리 기술의 상승으로 제품 생산량이 250,000개 되었을 때, 연평균 상승률의 대푯값을 구하시오. (반올림하여 소수점 아래 둘째자리까지 표기하시오.)"
   ]
  },
  {
   "cell_type": "markdown",
   "id": "12a5a66c",
   "metadata": {},
   "source": [
    "제품 생산량이 2년 전에서 1년 전으로 상승한 증가율은 다음과 같습니다.\n",
    "\n",
    "증가율 = (150,000 - 100,000) / 100,000 = 0.5\n",
    "\n",
    "제품 생산량이 1년 전에서 현재로 상승한 증가율은 다음과 같습니다.\n",
    "\n",
    "증가율 = (250,000 - 150,000) / 150,000 = 0.6667\n",
    "\n",
    "연평균 상승률의 기하 평균은 위 두 증가율의 곱을 n으로 나눈 값의 n 제곱근과 같습니다. 여기서 n은 증가율의 개수인 2입니다.\n",
    "\n",
    "즉, 연평균 상승률의 기하 평균은 다음과 같습니다.\n",
    "\n",
    "기하 평균 = ((1 + 0.5) * (1 + 0.6667))^(1/2) - 1 ≈ 0.58\n",
    "\n",
    "따라서, 연평균 상승률의 기하 평균은 약 0.58이 됩니다. (소수점 아래 둘째자리까지 반올림하여 표기했습니다.)"
   ]
  },
  {
   "cell_type": "code",
   "execution_count": 8,
   "id": "bd2b5f52",
   "metadata": {
    "scrolled": false
   },
   "outputs": [
    {
     "data": {
      "text/plain": [
       "'58.11%'"
      ]
     },
     "execution_count": 8,
     "metadata": {},
     "output_type": "execute_result"
    }
   ],
   "source": [
    "f'{round(((15/10 * 25/15)**0.5 -1) * 100, 2)}%'"
   ]
  },
  {
   "cell_type": "markdown",
   "id": "6e81996b",
   "metadata": {},
   "source": [
    "<b>6</b>\n",
    "12건의 광고 시간 측정. 평균 15.5초, 분산 3.2초 일때 90% 신뢰구간은?"
   ]
  },
  {
   "cell_type": "markdown",
   "id": "d16f56a1",
   "metadata": {},
   "source": [
    "이 문제는 t-분포를 사용하여 90% 신뢰구간을 계산할 수 있습니다. 신뢰수준이 90% 이므로, 양측 검정에서 양쪽 꼬리에 해당하는 t-분포의 분위수를 찾아야 합니다.\n",
    "\n",
    "우선, 자유도는 n-1=11입니다. 분산의 제곱근을 표준편차로 나타내면 s=√3.2≈1.79 입니다. 그러므로, t-분포의 분포 계수는 다음과 같이 계산됩니다.\n",
    "\n",
    "t = t(0.05/2, 11)\n",
    "\n",
    "여기서 t(0.05/2, 11)은 t-분포의 분위수 함수를 이용하여 계산할 수 있습니다.\n",
    "\n",
    "파이썬에서는 다음과 같이 계산할 수 있습니다."
   ]
  },
  {
   "cell_type": "code",
   "execution_count": 9,
   "id": "3a8c93f7",
   "metadata": {},
   "outputs": [],
   "source": [
    "import scipy.stats as stats\n",
    "\n",
    "n = 12\n",
    "x_bar = 15.5\n",
    "s = 3.2 ** 0.5\n",
    "alpha = 0.1\n",
    "df = n - 1\n"
   ]
  },
  {
   "cell_type": "code",
   "execution_count": 10,
   "id": "86ffb619",
   "metadata": {},
   "outputs": [
    {
     "data": {
      "text/plain": [
       "(14.572609067393861, 16.427390932606137)"
      ]
     },
     "execution_count": 10,
     "metadata": {},
     "output_type": "execute_result"
    }
   ],
   "source": [
    "interval = stats.t.interval(confidence=1-alpha, df=df, loc=x_bar, scale=s/(n**0.5))\n",
    "interval"
   ]
  },
  {
   "cell_type": "code",
   "execution_count": 11,
   "id": "c38681f3",
   "metadata": {},
   "outputs": [
    {
     "name": "stdout",
     "output_type": "stream",
     "text": [
      "90% 신뢰구간: (14.57, 16.43)\n"
     ]
    }
   ],
   "source": [
    "interval = stats.t.interval(confidence=1-alpha, df=df, loc=x_bar, scale=s/(n**0.5))\n",
    "print(\"90% 신뢰구간: ({:.2f}, {:.2f})\".format(interval[0], interval[1]))"
   ]
  },
  {
   "cell_type": "code",
   "execution_count": 12,
   "id": "831d6d06",
   "metadata": {},
   "outputs": [
    {
     "data": {
      "text/plain": [
       "-1.796"
      ]
     },
     "execution_count": 12,
     "metadata": {},
     "output_type": "execute_result"
    }
   ],
   "source": [
    "from scipy.stats import t\n",
    "\n",
    "t_value = t.ppf(alpha/2, df)\n",
    "round(t_value,3)\n"
   ]
  },
  {
   "cell_type": "markdown",
   "id": "4ba32e1f",
   "metadata": {},
   "source": [
    "t_value는 -1.796를 나타냅니다.\n",
    "\n",
    "그러므로, 90% 신뢰구간은 다음과 같이 계산됩니다.\n",
    "\n",
    "신뢰구간 = (x̄ - t * s / √n, x̄ + t * s / √n)\n",
    "= (15.5 - (-1.796) * 1.79 / √12, 15.5 + (-1.796) * 1.79 / √12)\n",
    "≈ (14.57, 16.43)    \n",
    "\n",
    "따라서, 90% 신뢰구간은 약 (14.57, 16.43)   초입니다."
   ]
  },
  {
   "cell_type": "markdown",
   "id": "89028981",
   "metadata": {},
   "source": [
    "<b>7 </b> 강의 상류와 하류의 생물 다양성 점수에 차이가 있는지 검정하시오. (단, 같은 강에서 상류와 하류는 서로 독립적이지 않으며, 종속적인 관계에 있다.)\n"
   ]
  },
  {
   "cell_type": "code",
   "execution_count": 13,
   "id": "0e783e6f",
   "metadata": {
    "scrolled": true
   },
   "outputs": [
    {
     "data": {
      "text/html": [
       "<div>\n",
       "<style scoped>\n",
       "    .dataframe tbody tr th:only-of-type {\n",
       "        vertical-align: middle;\n",
       "    }\n",
       "\n",
       "    .dataframe tbody tr th {\n",
       "        vertical-align: top;\n",
       "    }\n",
       "\n",
       "    .dataframe thead th {\n",
       "        text-align: right;\n",
       "    }\n",
       "</style>\n",
       "<table border=\"1\" class=\"dataframe\">\n",
       "  <thead>\n",
       "    <tr style=\"text-align: right;\">\n",
       "      <th></th>\n",
       "      <th>River</th>\n",
       "      <th>up</th>\n",
       "      <th>down</th>\n",
       "    </tr>\n",
       "  </thead>\n",
       "  <tbody>\n",
       "    <tr>\n",
       "      <th>0</th>\n",
       "      <td>A</td>\n",
       "      <td>57.1</td>\n",
       "      <td>45.7</td>\n",
       "    </tr>\n",
       "    <tr>\n",
       "      <th>1</th>\n",
       "      <td>B</td>\n",
       "      <td>51.6</td>\n",
       "      <td>37.2</td>\n",
       "    </tr>\n",
       "    <tr>\n",
       "      <th>2</th>\n",
       "      <td>C</td>\n",
       "      <td>53.9</td>\n",
       "      <td>53.3</td>\n",
       "    </tr>\n",
       "    <tr>\n",
       "      <th>3</th>\n",
       "      <td>D</td>\n",
       "      <td>59.0</td>\n",
       "      <td>54.3</td>\n",
       "    </tr>\n",
       "    <tr>\n",
       "      <th>4</th>\n",
       "      <td>E</td>\n",
       "      <td>57.5</td>\n",
       "      <td>46.3</td>\n",
       "    </tr>\n",
       "  </tbody>\n",
       "</table>\n",
       "</div>"
      ],
      "text/plain": [
       "  River    up  down\n",
       "0     A  57.1  45.7\n",
       "1     B  51.6  37.2\n",
       "2     C  53.9  53.3\n",
       "3     D  59.0  54.3\n",
       "4     E  57.5  46.3"
      ]
     },
     "execution_count": 13,
     "metadata": {},
     "output_type": "execute_result"
    }
   ],
   "source": [
    "import pandas as pd\n",
    "url = 'https://raw.githubusercontent.com/Datamanim/datarepo/main/adp/27/river.csv'\n",
    "data = pd.read_csv(url)\n",
    "data.head()"
   ]
  },
  {
   "cell_type": "markdown",
   "id": "89fdbe04",
   "metadata": {},
   "source": [
    "**7.1** 귀무가설과 대립가설을 세우시오  \n",
    "\n",
    "귀무가설(H0)은 상류와 하류 지역의 생물 다양성 점수가 차이가 없다는 것입니다. 대립가설(H1)은 상류와 하류 지역의 생물 다양성 점수가 차이가 있다는 것입니다.\n",
    "\n",
    "H0: mu_upstream - mu_downstream = 0\n",
    "\n",
    "H1: mu_upstream - mu_downstream != 0\n",
    "\n",
    "여기서 mu_upstream는 상류 지역의 생물 다양성 평균 점수를, mu_downstream은 하류 지역의 생물 다양성 평균 점수를 의미합니다."
   ]
  },
  {
   "cell_type": "markdown",
   "id": "07fc7e67",
   "metadata": {},
   "source": [
    "**7.2** 검정 통계량과 유의 확률을 구하고, 연구가설 채택여부를 검정하시오."
   ]
  },
  {
   "cell_type": "markdown",
   "id": "65738a3c",
   "metadata": {},
   "source": [
    "주어진 문제는 상류와 하류의 생물 다양성 점수에 차이가 있는지 검정하는 것입니다. 이 문제는 쌍체(two-sample) t-검정을 사용할 수 있습니다.\n",
    "\n",
    "우선 데이터를 불러와서 살펴보겠습니다. 다음과 같이 pandas 라이브러리를 사용하여 데이터를 불러올 수 있습니다.\n",
    "\n",
    "데이터를 살펴보면, \"상류\"와 \"하류\" 두 열(column)에 대한 생물 다양성 점수가 기록되어 있습니다. 두 열이 종속적인 관계에 있다는 점에 유의해야 합니다.\n",
    "\n",
    "데이터를 이용하여 t-검정을 수행해보겠습니다. 먼저 scipy 라이브러리를 사용하여 t-검정을 위한 함수를 불러옵니다."
   ]
  },
  {
   "cell_type": "code",
   "execution_count": 14,
   "id": "efd2d8c9",
   "metadata": {},
   "outputs": [],
   "source": [
    "from scipy.stats import ttest_rel"
   ]
  },
  {
   "cell_type": "markdown",
   "id": "290b5a2e",
   "metadata": {},
   "source": [
    "이제 t-검정을 수행할 차례입니다. ttest_rel() 함수를 사용하여 쌍체 t-검정을 수행합니다."
   ]
  },
  {
   "cell_type": "code",
   "execution_count": 17,
   "id": "a5900d11",
   "metadata": {},
   "outputs": [
    {
     "name": "stdout",
     "output_type": "stream",
     "text": [
      "t-statistic: 1.2922226959983891\n",
      "p-value: 0.21262429174344777\n"
     ]
    }
   ],
   "source": [
    "t_statistic, p_value = ttest_rel(data['up'], data['down'])\n",
    "print('t-statistic:', t_statistic)\n",
    "print('p-value:', p_value)"
   ]
  },
  {
   "cell_type": "markdown",
   "id": "7a21bcb7",
   "metadata": {},
   "source": [
    "t-검정 결과를 보면, t-통계량은 약 1.29이며, p-value는 0.21입니다. 유의 수준을 0.05로 설정했을 때, p-value가 유의수준보다 크므로 귀무가설을 채택해야합니다. 즉, 상류와 하류의 생물 다양성 점수는 동일하다는 귀무가설을 채택합니다.\n",
    "\n",
    "~~t-검정 결과를 보면, t-통계량은 약 2.329이며, p-값은 0.0315입니다. 유의 수준을 0.05로 설정했을 때, p-값이 유의 수준보다 작으므로 귀무 가설을 기각할 수 있습니다. 따라서 상류와 하류의 생물 다양성 점수에 차이가 있다는 연구 가설이 채택됩니다.~~\n",
    "\n",
    "~~결론적으로, 강의 상류와 하류의 생물 다양성 점수에 대한 쌍체 t-검정 결과는 t-통계량이 2.329이며, p-값이 0.0315입니다. 따라서, 상류와 하류의 생물 다양성 점수에 차이가 있다는 대립가설이 채택됩니다.~~\n",
    "\n"
   ]
  },
  {
   "cell_type": "markdown",
   "id": "c449207d",
   "metadata": {},
   "source": [
    "**8** user_counts를 종속변수로 하는 데이터이다"
   ]
  },
  {
   "cell_type": "markdown",
   "id": "e574e127",
   "metadata": {},
   "source": [
    "**8.1** 분위수 회귀분석 (Quantile Regression) 을 사용하여 회귀 계수를 구하시오. (반올림하여 소수점 아래 둘째자리까지 표기하시오.)"
   ]
  },
  {
   "cell_type": "markdown",
   "id": "f29743f9",
   "metadata": {},
   "source": [
    "주어진 문제는 분위수 회귀분석을 사용하여 회귀 계수를 구하는 것입니다.\n",
    "\n",
    "먼저 데이터를 불러와서 살펴보겠습니다. 다음과 같이 pandas 라이브러리를 사용하여 데이터를 불러올 수 있습니다."
   ]
  },
  {
   "cell_type": "code",
   "execution_count": 18,
   "id": "1c47dd5c",
   "metadata": {},
   "outputs": [
    {
     "data": {
      "text/html": [
       "<div>\n",
       "<style scoped>\n",
       "    .dataframe tbody tr th:only-of-type {\n",
       "        vertical-align: middle;\n",
       "    }\n",
       "\n",
       "    .dataframe tbody tr th {\n",
       "        vertical-align: top;\n",
       "    }\n",
       "\n",
       "    .dataframe thead th {\n",
       "        text-align: right;\n",
       "    }\n",
       "</style>\n",
       "<table border=\"1\" class=\"dataframe\">\n",
       "  <thead>\n",
       "    <tr style=\"text-align: right;\">\n",
       "      <th></th>\n",
       "      <th>temperature</th>\n",
       "      <th>wind</th>\n",
       "      <th>precipitation</th>\n",
       "      <th>user_counts</th>\n",
       "    </tr>\n",
       "  </thead>\n",
       "  <tbody>\n",
       "    <tr>\n",
       "      <th>0</th>\n",
       "      <td>10.400000</td>\n",
       "      <td>4.600</td>\n",
       "      <td>0.844944</td>\n",
       "      <td>6368</td>\n",
       "    </tr>\n",
       "    <tr>\n",
       "      <th>1</th>\n",
       "      <td>5.666667</td>\n",
       "      <td>4.625</td>\n",
       "      <td>0.040860</td>\n",
       "      <td>5902</td>\n",
       "    </tr>\n",
       "    <tr>\n",
       "      <th>2</th>\n",
       "      <td>4.933333</td>\n",
       "      <td>4.725</td>\n",
       "      <td>0.008696</td>\n",
       "      <td>6226</td>\n",
       "    </tr>\n",
       "    <tr>\n",
       "      <th>3</th>\n",
       "      <td>3.400000</td>\n",
       "      <td>2.675</td>\n",
       "      <td>0.156989</td>\n",
       "      <td>5829</td>\n",
       "    </tr>\n",
       "    <tr>\n",
       "      <th>4</th>\n",
       "      <td>8.900000</td>\n",
       "      <td>3.950</td>\n",
       "      <td>7.988462</td>\n",
       "      <td>7589</td>\n",
       "    </tr>\n",
       "  </tbody>\n",
       "</table>\n",
       "</div>"
      ],
      "text/plain": [
       "   temperature   wind  precipitation  user_counts\n",
       "0    10.400000  4.600       0.844944         6368\n",
       "1     5.666667  4.625       0.040860         5902\n",
       "2     4.933333  4.725       0.008696         6226\n",
       "3     3.400000  2.675       0.156989         5829\n",
       "4     8.900000  3.950       7.988462         7589"
      ]
     },
     "execution_count": 18,
     "metadata": {},
     "output_type": "execute_result"
    }
   ],
   "source": [
    "import pandas as pd\n",
    "url = 'https://raw.githubusercontent.com/Datamanim/datarepo/main/adp/27/problem8.csv'\n",
    "data = pd.read_csv(url)\n",
    "data.head()"
   ]
  },
  {
   "cell_type": "markdown",
   "id": "a72c4c35",
   "metadata": {},
   "source": [
    "데이터를 살펴보면, `temperature`, `wind`, `precipitation`와 `user_counts` 열(column)에 대한 값이 기록되어 있습니다. 이제 분위수 회귀분석을 수행해보겠습니다.\n",
    "\n",
    "먼저 statsmodels 라이브러리를 사용하여 분위수 회귀분석 모델을 불러옵니다."
   ]
  },
  {
   "cell_type": "code",
   "execution_count": 19,
   "id": "6f32ba6a",
   "metadata": {},
   "outputs": [],
   "source": [
    "import statsmodels.api as sm"
   ]
  },
  {
   "cell_type": "code",
   "execution_count": 20,
   "id": "070c4f23",
   "metadata": {},
   "outputs": [],
   "source": [
    "x = data.loc[:, ['temperature', 'wind', 'precipitation']]\n",
    "y = data['user_counts']\n"
   ]
  },
  {
   "cell_type": "markdown",
   "id": "188dbc49",
   "metadata": {},
   "source": [
    "quantreg() 함수를 사용하여 분위수 회귀분석 모델을 만듭니다. 이 함수는 첫 번째 인수로 독립 변수와 종속 변수를 받고, 두 번째 인수로 회귀분석에 사용할 분위수를 지정합니다. 여기서는 0.5, 즉 중앙값을 사용합니다."
   ]
  },
  {
   "cell_type": "code",
   "execution_count": 21,
   "id": "e026f3f1",
   "metadata": {},
   "outputs": [
    {
     "data": {
      "text/html": [
       "<table class=\"simpletable\">\n",
       "<caption>QuantReg Regression Results</caption>\n",
       "<tr>\n",
       "  <th>Dep. Variable:</th>    <td>user_counts</td>   <th>  Pseudo R-squared:  </th> <td>  0.3723</td>\n",
       "</tr>\n",
       "<tr>\n",
       "  <th>Model:</th>             <td>QuantReg</td>     <th>  Bandwidth:         </th> <td>   840.9</td>\n",
       "</tr>\n",
       "<tr>\n",
       "  <th>Method:</th>          <td>Least Squares</td>  <th>  Sparsity:          </th> <td>   5590.</td>\n",
       "</tr>\n",
       "<tr>\n",
       "  <th>Date:</th>          <td>Wed, 15 Feb 2023</td> <th>  No. Observations:  </th>  <td>  2097</td> \n",
       "</tr>\n",
       "<tr>\n",
       "  <th>Time:</th>              <td>22:41:52</td>     <th>  Df Residuals:      </th>  <td>  2093</td> \n",
       "</tr>\n",
       "<tr>\n",
       "  <th> </th>                      <td> </td>        <th>  Df Model:          </th>  <td>     3</td> \n",
       "</tr>\n",
       "</table>\n",
       "<table class=\"simpletable\">\n",
       "<tr>\n",
       "        <td></td>           <th>coef</th>     <th>std err</th>      <th>t</th>      <th>P>|t|</th>  <th>[0.025</th>    <th>0.975]</th>  \n",
       "</tr>\n",
       "<tr>\n",
       "  <th>const</th>         <td> 5941.8395</td> <td>  198.127</td> <td>   29.990</td> <td> 0.000</td> <td> 5553.293</td> <td> 6330.386</td>\n",
       "</tr>\n",
       "<tr>\n",
       "  <th>temperature</th>   <td>  268.8920</td> <td>    6.571</td> <td>   40.918</td> <td> 0.000</td> <td>  256.005</td> <td>  281.779</td>\n",
       "</tr>\n",
       "<tr>\n",
       "  <th>wind</th>          <td> -129.4050</td> <td>   46.259</td> <td>   -2.797</td> <td> 0.005</td> <td> -220.124</td> <td>  -38.686</td>\n",
       "</tr>\n",
       "<tr>\n",
       "  <th>precipitation</th> <td>  -83.3843</td> <td>    7.891</td> <td>  -10.567</td> <td> 0.000</td> <td>  -98.859</td> <td>  -67.910</td>\n",
       "</tr>\n",
       "</table>"
      ],
      "text/plain": [
       "<class 'statsmodels.iolib.summary.Summary'>\n",
       "\"\"\"\n",
       "                         QuantReg Regression Results                          \n",
       "==============================================================================\n",
       "Dep. Variable:            user_counts   Pseudo R-squared:               0.3723\n",
       "Model:                       QuantReg   Bandwidth:                       840.9\n",
       "Method:                 Least Squares   Sparsity:                        5590.\n",
       "Date:                Wed, 15 Feb 2023   No. Observations:                 2097\n",
       "Time:                        22:41:52   Df Residuals:                     2093\n",
       "                                        Df Model:                            3\n",
       "=================================================================================\n",
       "                    coef    std err          t      P>|t|      [0.025      0.975]\n",
       "---------------------------------------------------------------------------------\n",
       "const          5941.8395    198.127     29.990      0.000    5553.293    6330.386\n",
       "temperature     268.8920      6.571     40.918      0.000     256.005     281.779\n",
       "wind           -129.4050     46.259     -2.797      0.005    -220.124     -38.686\n",
       "precipitation   -83.3843      7.891    -10.567      0.000     -98.859     -67.910\n",
       "=================================================================================\n",
       "\"\"\""
      ]
     },
     "execution_count": 21,
     "metadata": {},
     "output_type": "execute_result"
    }
   ],
   "source": [
    "quantiles = sm.QuantReg(y, sm.add_constant(x)).fit(q=0.5)\n",
    "quantiles.summary()"
   ]
  },
  {
   "cell_type": "code",
   "execution_count": 22,
   "id": "ffd1107d",
   "metadata": {},
   "outputs": [
    {
     "data": {
      "text/plain": [
       "const            5941.839469\n",
       "temperature       268.892015\n",
       "wind             -129.405013\n",
       "precipitation     -83.384281\n",
       "dtype: float64"
      ]
     },
     "execution_count": 22,
     "metadata": {},
     "output_type": "execute_result"
    }
   ],
   "source": [
    "quantiles.params"
   ]
  },
  {
   "cell_type": "markdown",
   "id": "72c43593",
   "metadata": {},
   "source": [
    "quantreg() 함수의 결과로 회귀분석 모델을 만들고, 이 모델의 요약 정보를 출력합니다.\n",
    "\n",
    "출력된 요약 정보에서 \"coef\" 열(column)을 보면, `temperature`, `wind`, `precipitation`와 상수항에 대한 회귀 계수가 기록되어 있습니다. `temperature`, `wind`, `precipitation`에 대한 회귀 계수는 약 [268.89, -129.40, -83.38]이고 상수항에 대한 회귀 계수는 약 [5941.84]입니다. 따라서, 분위수 회귀분석을 통해 얻은 회귀식은 다음과 같습니다.\n",
    "\n",
    "user_counts = 268.89 * temperature + (-129.40) * wind + (-83.38) * precipitation + 5941.84"
   ]
  },
  {
   "cell_type": "markdown",
   "id": "b67e6a2e",
   "metadata": {},
   "source": [
    "**8.2** 8.1의 모델의 회귀계수를 활용하여 temperature : 10.5 , wind : 8.2 , precipitation : 3.5 일때 user_counts를 예측하시오"
   ]
  },
  {
   "cell_type": "code",
   "execution_count": 23,
   "id": "411c1536",
   "metadata": {},
   "outputs": [
    {
     "name": "stdout",
     "output_type": "stream",
     "text": [
      " temperature : 10.5 , wind : 8.2 , precipitation : 3.5 일때 user_counts 는 7412.27 으로 예측된다.\n"
     ]
    }
   ],
   "source": [
    "temperature = 10.5 \n",
    "wind = 8.2 \n",
    "precipitation = 3.5\n",
    "user_counts_pred = 268.89 * temperature + (-129.40) * wind + (-83.38) * precipitation + 5941.84\n",
    "print(\" temperature : 10.5 , wind : 8.2 , precipitation : 3.5 일때 user_counts 는 {:.2f} 으로 예측된다.\".format(user_counts_pred))"
   ]
  },
  {
   "cell_type": "markdown",
   "id": "546e3181",
   "metadata": {},
   "source": [
    "**9** 변속기 종류(am변수)와 실린더 개수(cyl)에 따라 주행거리(mpg변수) 평균에 유의미한 차이가 존재하는지 이원 분산분석을 수행하고, 그 결과를 해석해보자(Type III Anova 사용)"
   ]
  },
  {
   "cell_type": "code",
   "execution_count": 24,
   "id": "4deed4ab",
   "metadata": {
    "scrolled": true
   },
   "outputs": [
    {
     "data": {
      "text/html": [
       "<div>\n",
       "<style scoped>\n",
       "    .dataframe tbody tr th:only-of-type {\n",
       "        vertical-align: middle;\n",
       "    }\n",
       "\n",
       "    .dataframe tbody tr th {\n",
       "        vertical-align: top;\n",
       "    }\n",
       "\n",
       "    .dataframe thead th {\n",
       "        text-align: right;\n",
       "    }\n",
       "</style>\n",
       "<table border=\"1\" class=\"dataframe\">\n",
       "  <thead>\n",
       "    <tr style=\"text-align: right;\">\n",
       "      <th></th>\n",
       "      <th>Unnamed: 0</th>\n",
       "      <th>mpg</th>\n",
       "      <th>cyl</th>\n",
       "      <th>disp</th>\n",
       "      <th>hp</th>\n",
       "      <th>drat</th>\n",
       "      <th>wt</th>\n",
       "      <th>qsec</th>\n",
       "      <th>vs</th>\n",
       "      <th>am</th>\n",
       "      <th>gear</th>\n",
       "      <th>carb</th>\n",
       "    </tr>\n",
       "  </thead>\n",
       "  <tbody>\n",
       "    <tr>\n",
       "      <th>0</th>\n",
       "      <td>Mazda RX4</td>\n",
       "      <td>21.0</td>\n",
       "      <td>6</td>\n",
       "      <td>160.0</td>\n",
       "      <td>110</td>\n",
       "      <td>3.90</td>\n",
       "      <td>2.620</td>\n",
       "      <td>16.46</td>\n",
       "      <td>0</td>\n",
       "      <td>1</td>\n",
       "      <td>4</td>\n",
       "      <td>4</td>\n",
       "    </tr>\n",
       "    <tr>\n",
       "      <th>1</th>\n",
       "      <td>Mazda RX4 Wag</td>\n",
       "      <td>21.0</td>\n",
       "      <td>6</td>\n",
       "      <td>160.0</td>\n",
       "      <td>110</td>\n",
       "      <td>3.90</td>\n",
       "      <td>2.875</td>\n",
       "      <td>17.02</td>\n",
       "      <td>0</td>\n",
       "      <td>1</td>\n",
       "      <td>4</td>\n",
       "      <td>4</td>\n",
       "    </tr>\n",
       "    <tr>\n",
       "      <th>2</th>\n",
       "      <td>Datsun 710</td>\n",
       "      <td>22.8</td>\n",
       "      <td>4</td>\n",
       "      <td>108.0</td>\n",
       "      <td>93</td>\n",
       "      <td>3.85</td>\n",
       "      <td>2.320</td>\n",
       "      <td>18.61</td>\n",
       "      <td>1</td>\n",
       "      <td>1</td>\n",
       "      <td>4</td>\n",
       "      <td>1</td>\n",
       "    </tr>\n",
       "    <tr>\n",
       "      <th>3</th>\n",
       "      <td>Hornet 4 Drive</td>\n",
       "      <td>21.4</td>\n",
       "      <td>6</td>\n",
       "      <td>258.0</td>\n",
       "      <td>110</td>\n",
       "      <td>3.08</td>\n",
       "      <td>3.215</td>\n",
       "      <td>19.44</td>\n",
       "      <td>1</td>\n",
       "      <td>0</td>\n",
       "      <td>3</td>\n",
       "      <td>1</td>\n",
       "    </tr>\n",
       "    <tr>\n",
       "      <th>4</th>\n",
       "      <td>Hornet Sportabout</td>\n",
       "      <td>18.7</td>\n",
       "      <td>8</td>\n",
       "      <td>360.0</td>\n",
       "      <td>175</td>\n",
       "      <td>3.15</td>\n",
       "      <td>3.440</td>\n",
       "      <td>17.02</td>\n",
       "      <td>0</td>\n",
       "      <td>0</td>\n",
       "      <td>3</td>\n",
       "      <td>2</td>\n",
       "    </tr>\n",
       "  </tbody>\n",
       "</table>\n",
       "</div>"
      ],
      "text/plain": [
       "          Unnamed: 0   mpg  cyl   disp   hp  drat     wt   qsec  vs  am  gear  \\\n",
       "0          Mazda RX4  21.0    6  160.0  110  3.90  2.620  16.46   0   1     4   \n",
       "1      Mazda RX4 Wag  21.0    6  160.0  110  3.90  2.875  17.02   0   1     4   \n",
       "2         Datsun 710  22.8    4  108.0   93  3.85  2.320  18.61   1   1     4   \n",
       "3     Hornet 4 Drive  21.4    6  258.0  110  3.08  3.215  19.44   1   0     3   \n",
       "4  Hornet Sportabout  18.7    8  360.0  175  3.15  3.440  17.02   0   0     3   \n",
       "\n",
       "   carb  \n",
       "0     4  \n",
       "1     4  \n",
       "2     1  \n",
       "3     1  \n",
       "4     2  "
      ]
     },
     "execution_count": 24,
     "metadata": {},
     "output_type": "execute_result"
    }
   ],
   "source": [
    "df = pd.read_csv('./mtcars.csv')\n",
    "df.head()"
   ]
  },
  {
   "cell_type": "markdown",
   "id": "ccb94bf8",
   "metadata": {},
   "source": [
    "**9.1** 귀무가설과 대립가설 설정하라"
   ]
  },
  {
   "cell_type": "markdown",
   "id": "9ca29a24",
   "metadata": {},
   "source": [
    "- <b>가. 상호작용효과 검정에 대한 가설</b><br>\n",
    "1) 귀무가설 H0: 변속기 종류와 실린더 개수 간에는 상호작용 효과가 없다. <br>\n",
    "2) 대립가설 H1: 변속기 종류와 실린더 개수 간에는 상호작용 효과가 있다. <br>\n",
    "\n",
    "\n",
    "- <b>나. 주효과 검정에 대한 가설</b> <br>\n",
    "1) 귀무가설 H0: 실린더 개수에 따른 주행거리의 차이는 존재하지 않는다. <br>\n",
    "2) 대립가설 H1: 실린더 개수에 따른 주행거리의 차이는 존재한다. <br> \n",
    "3) 귀무가설 H0: 변속기 종류에 따른 주행거리의 차이는 존재하지 않는다. <br>\n",
    "4) 대립가설 H1: 변속기 종류에 따른 주행거리의 차이는 존재한다. <br> \n",
    "<br> \n"
   ]
  },
  {
   "cell_type": "markdown",
   "id": "d81d89f3",
   "metadata": {},
   "source": [
    "**9.2** 통계량을 구하고, 대립가설 채택여부를 기술하라"
   ]
  },
  {
   "cell_type": "code",
   "execution_count": 25,
   "id": "1949c985",
   "metadata": {},
   "outputs": [
    {
     "name": "stdout",
     "output_type": "stream",
     "text": [
      "<class 'pandas.core.series.Series'> <class 'pandas.core.series.Series'>\n"
     ]
    }
   ],
   "source": [
    "## 독립변수 cyl,am와 종속변수 mpg을 Series로 변경 \n",
    "cyl = df[\"cyl\"]\n",
    "am = df[\"am\"]\n",
    "mpg = df[\"mpg\"]\n",
    "print(type(cyl),type(am))\n",
    "\n",
    "## cyl, am, mpg 변수들로만 구성된 분석용 데이터셋 생성 \n",
    "df = df[[\"mpg\",\"am\",\"cyl\"]]"
   ]
  },
  {
   "cell_type": "code",
   "execution_count": 26,
   "id": "db88c12a",
   "metadata": {},
   "outputs": [],
   "source": [
    "## 분산분석 수행 \n",
    "\n",
    "from statsmodels.formula.api import ols\n",
    "from statsmodels.stats.anova import anova_lm\n",
    "\n",
    "formula = 'mpg ~C(cyl)*C(am)' # 'mpg ~ C(cyl) + C(am) + C(cyl):C(am)' 왼쪽의 공식과 동일\n",
    "model = ols(formula, df).fit()\n",
    "aov_table = anova_lm(model, typ=3)"
   ]
  },
  {
   "cell_type": "code",
   "execution_count": 27,
   "id": "0503ec9f",
   "metadata": {
    "scrolled": true
   },
   "outputs": [
    {
     "data": {
      "text/html": [
       "<div>\n",
       "<style scoped>\n",
       "    .dataframe tbody tr th:only-of-type {\n",
       "        vertical-align: middle;\n",
       "    }\n",
       "\n",
       "    .dataframe tbody tr th {\n",
       "        vertical-align: top;\n",
       "    }\n",
       "\n",
       "    .dataframe thead th {\n",
       "        text-align: right;\n",
       "    }\n",
       "</style>\n",
       "<table border=\"1\" class=\"dataframe\">\n",
       "  <thead>\n",
       "    <tr style=\"text-align: right;\">\n",
       "      <th></th>\n",
       "      <th>sum_sq</th>\n",
       "      <th>df</th>\n",
       "      <th>F</th>\n",
       "      <th>PR(&gt;F)</th>\n",
       "    </tr>\n",
       "  </thead>\n",
       "  <tbody>\n",
       "    <tr>\n",
       "      <th>Intercept</th>\n",
       "      <td>1573.230000</td>\n",
       "      <td>1.0</td>\n",
       "      <td>171.104001</td>\n",
       "      <td>6.057324e-13</td>\n",
       "    </tr>\n",
       "    <tr>\n",
       "      <th>C(cyl)</th>\n",
       "      <td>167.709868</td>\n",
       "      <td>2.0</td>\n",
       "      <td>9.120036</td>\n",
       "      <td>9.978097e-04</td>\n",
       "    </tr>\n",
       "    <tr>\n",
       "      <th>C(am)</th>\n",
       "      <td>58.430455</td>\n",
       "      <td>1.0</td>\n",
       "      <td>6.354878</td>\n",
       "      <td>1.817605e-02</td>\n",
       "    </tr>\n",
       "    <tr>\n",
       "      <th>C(cyl):C(am)</th>\n",
       "      <td>25.436511</td>\n",
       "      <td>2.0</td>\n",
       "      <td>1.383233</td>\n",
       "      <td>2.686140e-01</td>\n",
       "    </tr>\n",
       "    <tr>\n",
       "      <th>Residual</th>\n",
       "      <td>239.059167</td>\n",
       "      <td>26.0</td>\n",
       "      <td>NaN</td>\n",
       "      <td>NaN</td>\n",
       "    </tr>\n",
       "  </tbody>\n",
       "</table>\n",
       "</div>"
      ],
      "text/plain": [
       "                   sum_sq    df           F        PR(>F)\n",
       "Intercept     1573.230000   1.0  171.104001  6.057324e-13\n",
       "C(cyl)         167.709868   2.0    9.120036  9.978097e-04\n",
       "C(am)           58.430455   1.0    6.354878  1.817605e-02\n",
       "C(cyl):C(am)    25.436511   2.0    1.383233  2.686140e-01\n",
       "Residual       239.059167  26.0         NaN           NaN"
      ]
     },
     "execution_count": 27,
     "metadata": {},
     "output_type": "execute_result"
    }
   ],
   "source": [
    "aov_table"
   ]
  },
  {
   "cell_type": "markdown",
   "id": "28d4e1e1",
   "metadata": {},
   "source": [
    "분산분석 결과에서 유의수준 0.05에서 F-검정을 적용했을 때, C(cyl), C(am)의 p-value 0.05보다 작기 때문에 통계적으로 유의미하다고 볼 수 있습니다. 따라서, am 변수와 cyl 변수가 mpg 변수에 대해 유의미한 영향을 미치는 것으로 해석할 수 있습니다.\n",
    "\n",
    "또한, 이원 분산분석에서는 상호작용항도 포함되기 때문에, C(cyl):C(am)의 p-value가 0.05보다 크기 때문에 통계적으로 유의하지 않다고 볼 수 있습니다. 따라서, am 변수와 cyl 변수의 조합이 mpg 변수에 대해 유의미한 영향을 미치는 않는 것으로 해석할 수 있습니다.\n",
    "\n",
    "결론적으로, mpg 데이터셋에서 변속기 종류(am 변수)와 실린더 개수(cyl 변수)에 따라 주행거리(mpg 변수) 평균에 유의미한 차이가 존재하는 것지만 변속기 종류(am 변수)와 실린더 개수(cyl 변수)의 상호작용 효과는 없다고 분석되었습니다."
   ]
  }
 ],
 "metadata": {
  "kernelspec": {
   "display_name": "Python 3 (ipykernel)",
   "language": "python",
   "name": "python3"
  },
  "language_info": {
   "codemirror_mode": {
    "name": "ipython",
    "version": 3
   },
   "file_extension": ".py",
   "mimetype": "text/x-python",
   "name": "python",
   "nbconvert_exporter": "python",
   "pygments_lexer": "ipython3",
   "version": "3.9.13"
  }
 },
 "nbformat": 4,
 "nbformat_minor": 5
}
